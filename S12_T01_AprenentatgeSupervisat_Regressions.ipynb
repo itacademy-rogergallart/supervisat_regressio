{
  "nbformat": 4,
  "nbformat_minor": 0,
  "metadata": {
    "colab": {
      "name": "S12_T01_AprenentatgeSupervisat_Regressions.ipynb",
      "provenance": [],
      "collapsed_sections": [
        "FjiBn7aS3ytZ"
      ],
      "authorship_tag": "ABX9TyOr9Mj+caUwz/MzeUpNOxjM"
    },
    "kernelspec": {
      "display_name": "Python 3",
      "name": "python3"
    },
    "language_info": {
      "name": "python"
    },
    "widgets": {
      "application/vnd.jupyter.widget-state+json": {
        "375d26cb8130451ba6ee473fa2d61a79": {
          "model_module": "@jupyter-widgets/controls",
          "model_name": "HBoxModel",
          "model_module_version": "1.5.0",
          "state": {
            "_view_name": "HBoxView",
            "_dom_classes": [],
            "_model_name": "HBoxModel",
            "_view_module": "@jupyter-widgets/controls",
            "_model_module_version": "1.5.0",
            "_view_count": null,
            "_view_module_version": "1.5.0",
            "box_style": "",
            "layout": "IPY_MODEL_ad1e51b4aa5e4807ab75c587b53d5ef0",
            "_model_module": "@jupyter-widgets/controls",
            "children": [
              "IPY_MODEL_9191ffdbed35414185a09ebe51926455",
              "IPY_MODEL_7d941002e5234af191c30f6db6da2a81",
              "IPY_MODEL_3ec660dcd54a462bb70f2e6f8f6120fb"
            ]
          }
        },
        "ad1e51b4aa5e4807ab75c587b53d5ef0": {
          "model_module": "@jupyter-widgets/base",
          "model_name": "LayoutModel",
          "model_module_version": "1.2.0",
          "state": {
            "_view_name": "LayoutView",
            "grid_template_rows": null,
            "right": null,
            "justify_content": null,
            "_view_module": "@jupyter-widgets/base",
            "overflow": null,
            "_model_module_version": "1.2.0",
            "_view_count": null,
            "flex_flow": null,
            "width": null,
            "min_width": null,
            "border": null,
            "align_items": null,
            "bottom": null,
            "_model_module": "@jupyter-widgets/base",
            "top": null,
            "grid_column": null,
            "overflow_y": null,
            "overflow_x": null,
            "grid_auto_flow": null,
            "grid_area": null,
            "grid_template_columns": null,
            "flex": null,
            "_model_name": "LayoutModel",
            "justify_items": null,
            "grid_row": null,
            "max_height": null,
            "align_content": null,
            "visibility": null,
            "align_self": null,
            "height": null,
            "min_height": null,
            "padding": null,
            "grid_auto_rows": null,
            "grid_gap": null,
            "max_width": null,
            "order": null,
            "_view_module_version": "1.2.0",
            "grid_template_areas": null,
            "object_position": null,
            "object_fit": null,
            "grid_auto_columns": null,
            "margin": null,
            "display": null,
            "left": null
          }
        },
        "9191ffdbed35414185a09ebe51926455": {
          "model_module": "@jupyter-widgets/controls",
          "model_name": "HTMLModel",
          "model_module_version": "1.5.0",
          "state": {
            "_view_name": "HTMLView",
            "style": "IPY_MODEL_0bb74a2ee5ef419381e22faf52076004",
            "_dom_classes": [],
            "description": "",
            "_model_name": "HTMLModel",
            "placeholder": "​",
            "_view_module": "@jupyter-widgets/controls",
            "_model_module_version": "1.5.0",
            "value": "100%",
            "_view_count": null,
            "_view_module_version": "1.5.0",
            "description_tooltip": null,
            "_model_module": "@jupyter-widgets/controls",
            "layout": "IPY_MODEL_6e4a3b4e08d849218edba9208ab4eee1"
          }
        },
        "7d941002e5234af191c30f6db6da2a81": {
          "model_module": "@jupyter-widgets/controls",
          "model_name": "FloatProgressModel",
          "model_module_version": "1.5.0",
          "state": {
            "_view_name": "ProgressView",
            "style": "IPY_MODEL_5fa039e2a1fe4d6bbcc7f64d56b7052d",
            "_dom_classes": [],
            "description": "",
            "_model_name": "FloatProgressModel",
            "bar_style": "success",
            "max": 6,
            "_view_module": "@jupyter-widgets/controls",
            "_model_module_version": "1.5.0",
            "value": 6,
            "_view_count": null,
            "_view_module_version": "1.5.0",
            "orientation": "horizontal",
            "min": 0,
            "description_tooltip": null,
            "_model_module": "@jupyter-widgets/controls",
            "layout": "IPY_MODEL_2f65c9b03e454c47a1e4b0a1198dbe3c"
          }
        },
        "3ec660dcd54a462bb70f2e6f8f6120fb": {
          "model_module": "@jupyter-widgets/controls",
          "model_name": "HTMLModel",
          "model_module_version": "1.5.0",
          "state": {
            "_view_name": "HTMLView",
            "style": "IPY_MODEL_b635ff79da1b4920a2d22c094d651ce7",
            "_dom_classes": [],
            "description": "",
            "_model_name": "HTMLModel",
            "placeholder": "​",
            "_view_module": "@jupyter-widgets/controls",
            "_model_module_version": "1.5.0",
            "value": " 6/6 [01:27&lt;00:00, 12.09s/it]",
            "_view_count": null,
            "_view_module_version": "1.5.0",
            "description_tooltip": null,
            "_model_module": "@jupyter-widgets/controls",
            "layout": "IPY_MODEL_dc1d9f27c0e64fef945e4686164c19c9"
          }
        },
        "0bb74a2ee5ef419381e22faf52076004": {
          "model_module": "@jupyter-widgets/controls",
          "model_name": "DescriptionStyleModel",
          "model_module_version": "1.5.0",
          "state": {
            "_view_name": "StyleView",
            "_model_name": "DescriptionStyleModel",
            "description_width": "",
            "_view_module": "@jupyter-widgets/base",
            "_model_module_version": "1.5.0",
            "_view_count": null,
            "_view_module_version": "1.2.0",
            "_model_module": "@jupyter-widgets/controls"
          }
        },
        "6e4a3b4e08d849218edba9208ab4eee1": {
          "model_module": "@jupyter-widgets/base",
          "model_name": "LayoutModel",
          "model_module_version": "1.2.0",
          "state": {
            "_view_name": "LayoutView",
            "grid_template_rows": null,
            "right": null,
            "justify_content": null,
            "_view_module": "@jupyter-widgets/base",
            "overflow": null,
            "_model_module_version": "1.2.0",
            "_view_count": null,
            "flex_flow": null,
            "width": null,
            "min_width": null,
            "border": null,
            "align_items": null,
            "bottom": null,
            "_model_module": "@jupyter-widgets/base",
            "top": null,
            "grid_column": null,
            "overflow_y": null,
            "overflow_x": null,
            "grid_auto_flow": null,
            "grid_area": null,
            "grid_template_columns": null,
            "flex": null,
            "_model_name": "LayoutModel",
            "justify_items": null,
            "grid_row": null,
            "max_height": null,
            "align_content": null,
            "visibility": null,
            "align_self": null,
            "height": null,
            "min_height": null,
            "padding": null,
            "grid_auto_rows": null,
            "grid_gap": null,
            "max_width": null,
            "order": null,
            "_view_module_version": "1.2.0",
            "grid_template_areas": null,
            "object_position": null,
            "object_fit": null,
            "grid_auto_columns": null,
            "margin": null,
            "display": null,
            "left": null
          }
        },
        "5fa039e2a1fe4d6bbcc7f64d56b7052d": {
          "model_module": "@jupyter-widgets/controls",
          "model_name": "ProgressStyleModel",
          "model_module_version": "1.5.0",
          "state": {
            "_view_name": "StyleView",
            "_model_name": "ProgressStyleModel",
            "description_width": "",
            "_view_module": "@jupyter-widgets/base",
            "_model_module_version": "1.5.0",
            "_view_count": null,
            "_view_module_version": "1.2.0",
            "bar_color": null,
            "_model_module": "@jupyter-widgets/controls"
          }
        },
        "2f65c9b03e454c47a1e4b0a1198dbe3c": {
          "model_module": "@jupyter-widgets/base",
          "model_name": "LayoutModel",
          "model_module_version": "1.2.0",
          "state": {
            "_view_name": "LayoutView",
            "grid_template_rows": null,
            "right": null,
            "justify_content": null,
            "_view_module": "@jupyter-widgets/base",
            "overflow": null,
            "_model_module_version": "1.2.0",
            "_view_count": null,
            "flex_flow": null,
            "width": null,
            "min_width": null,
            "border": null,
            "align_items": null,
            "bottom": null,
            "_model_module": "@jupyter-widgets/base",
            "top": null,
            "grid_column": null,
            "overflow_y": null,
            "overflow_x": null,
            "grid_auto_flow": null,
            "grid_area": null,
            "grid_template_columns": null,
            "flex": null,
            "_model_name": "LayoutModel",
            "justify_items": null,
            "grid_row": null,
            "max_height": null,
            "align_content": null,
            "visibility": null,
            "align_self": null,
            "height": null,
            "min_height": null,
            "padding": null,
            "grid_auto_rows": null,
            "grid_gap": null,
            "max_width": null,
            "order": null,
            "_view_module_version": "1.2.0",
            "grid_template_areas": null,
            "object_position": null,
            "object_fit": null,
            "grid_auto_columns": null,
            "margin": null,
            "display": null,
            "left": null
          }
        },
        "b635ff79da1b4920a2d22c094d651ce7": {
          "model_module": "@jupyter-widgets/controls",
          "model_name": "DescriptionStyleModel",
          "model_module_version": "1.5.0",
          "state": {
            "_view_name": "StyleView",
            "_model_name": "DescriptionStyleModel",
            "description_width": "",
            "_view_module": "@jupyter-widgets/base",
            "_model_module_version": "1.5.0",
            "_view_count": null,
            "_view_module_version": "1.2.0",
            "_model_module": "@jupyter-widgets/controls"
          }
        },
        "dc1d9f27c0e64fef945e4686164c19c9": {
          "model_module": "@jupyter-widgets/base",
          "model_name": "LayoutModel",
          "model_module_version": "1.2.0",
          "state": {
            "_view_name": "LayoutView",
            "grid_template_rows": null,
            "right": null,
            "justify_content": null,
            "_view_module": "@jupyter-widgets/base",
            "overflow": null,
            "_model_module_version": "1.2.0",
            "_view_count": null,
            "flex_flow": null,
            "width": null,
            "min_width": null,
            "border": null,
            "align_items": null,
            "bottom": null,
            "_model_module": "@jupyter-widgets/base",
            "top": null,
            "grid_column": null,
            "overflow_y": null,
            "overflow_x": null,
            "grid_auto_flow": null,
            "grid_area": null,
            "grid_template_columns": null,
            "flex": null,
            "_model_name": "LayoutModel",
            "justify_items": null,
            "grid_row": null,
            "max_height": null,
            "align_content": null,
            "visibility": null,
            "align_self": null,
            "height": null,
            "min_height": null,
            "padding": null,
            "grid_auto_rows": null,
            "grid_gap": null,
            "max_width": null,
            "order": null,
            "_view_module_version": "1.2.0",
            "grid_template_areas": null,
            "object_position": null,
            "object_fit": null,
            "grid_auto_columns": null,
            "margin": null,
            "display": null,
            "left": null
          }
        },
        "3ba6e993100640df8305dae81e9a3d04": {
          "model_module": "@jupyter-widgets/controls",
          "model_name": "HBoxModel",
          "model_module_version": "1.5.0",
          "state": {
            "_view_name": "HBoxView",
            "_dom_classes": [],
            "_model_name": "HBoxModel",
            "_view_module": "@jupyter-widgets/controls",
            "_model_module_version": "1.5.0",
            "_view_count": null,
            "_view_module_version": "1.5.0",
            "box_style": "",
            "layout": "IPY_MODEL_fe00bdd5811d4c9a97379ecd205da13c",
            "_model_module": "@jupyter-widgets/controls",
            "children": [
              "IPY_MODEL_09a6fb8a08b9490e8182374c83fdf314",
              "IPY_MODEL_e5af414c81344c0eb8941aa52ea5b433",
              "IPY_MODEL_bb156de293ad4e6d818ff9c3a8928df8"
            ]
          }
        },
        "fe00bdd5811d4c9a97379ecd205da13c": {
          "model_module": "@jupyter-widgets/base",
          "model_name": "LayoutModel",
          "model_module_version": "1.2.0",
          "state": {
            "_view_name": "LayoutView",
            "grid_template_rows": null,
            "right": null,
            "justify_content": null,
            "_view_module": "@jupyter-widgets/base",
            "overflow": null,
            "_model_module_version": "1.2.0",
            "_view_count": null,
            "flex_flow": null,
            "width": null,
            "min_width": null,
            "border": null,
            "align_items": null,
            "bottom": null,
            "_model_module": "@jupyter-widgets/base",
            "top": null,
            "grid_column": null,
            "overflow_y": null,
            "overflow_x": null,
            "grid_auto_flow": null,
            "grid_area": null,
            "grid_template_columns": null,
            "flex": null,
            "_model_name": "LayoutModel",
            "justify_items": null,
            "grid_row": null,
            "max_height": null,
            "align_content": null,
            "visibility": null,
            "align_self": null,
            "height": null,
            "min_height": null,
            "padding": null,
            "grid_auto_rows": null,
            "grid_gap": null,
            "max_width": null,
            "order": null,
            "_view_module_version": "1.2.0",
            "grid_template_areas": null,
            "object_position": null,
            "object_fit": null,
            "grid_auto_columns": null,
            "margin": null,
            "display": null,
            "left": null
          }
        },
        "09a6fb8a08b9490e8182374c83fdf314": {
          "model_module": "@jupyter-widgets/controls",
          "model_name": "HTMLModel",
          "model_module_version": "1.5.0",
          "state": {
            "_view_name": "HTMLView",
            "style": "IPY_MODEL_d8b402284b9a4854b1cf15c4704a4817",
            "_dom_classes": [],
            "description": "",
            "_model_name": "HTMLModel",
            "placeholder": "​",
            "_view_module": "@jupyter-widgets/controls",
            "_model_module_version": "1.5.0",
            "value": "100%",
            "_view_count": null,
            "_view_module_version": "1.5.0",
            "description_tooltip": null,
            "_model_module": "@jupyter-widgets/controls",
            "layout": "IPY_MODEL_b932e1e87dc046b88af84e58c2c72914"
          }
        },
        "e5af414c81344c0eb8941aa52ea5b433": {
          "model_module": "@jupyter-widgets/controls",
          "model_name": "FloatProgressModel",
          "model_module_version": "1.5.0",
          "state": {
            "_view_name": "ProgressView",
            "style": "IPY_MODEL_01ea035a4ba74009bc45cb78c1358548",
            "_dom_classes": [],
            "description": "",
            "_model_name": "FloatProgressModel",
            "bar_style": "success",
            "max": 6,
            "_view_module": "@jupyter-widgets/controls",
            "_model_module_version": "1.5.0",
            "value": 6,
            "_view_count": null,
            "_view_module_version": "1.5.0",
            "orientation": "horizontal",
            "min": 0,
            "description_tooltip": null,
            "_model_module": "@jupyter-widgets/controls",
            "layout": "IPY_MODEL_85956d12410c4ccab630f19657cb6702"
          }
        },
        "bb156de293ad4e6d818ff9c3a8928df8": {
          "model_module": "@jupyter-widgets/controls",
          "model_name": "HTMLModel",
          "model_module_version": "1.5.0",
          "state": {
            "_view_name": "HTMLView",
            "style": "IPY_MODEL_e3d0353b6d5741ec9bb88402dd338721",
            "_dom_classes": [],
            "description": "",
            "_model_name": "HTMLModel",
            "placeholder": "​",
            "_view_module": "@jupyter-widgets/controls",
            "_model_module_version": "1.5.0",
            "value": " 6/6 [00:55&lt;00:00,  8.04s/it]",
            "_view_count": null,
            "_view_module_version": "1.5.0",
            "description_tooltip": null,
            "_model_module": "@jupyter-widgets/controls",
            "layout": "IPY_MODEL_551497c4443d43fd9335530e7b204167"
          }
        },
        "d8b402284b9a4854b1cf15c4704a4817": {
          "model_module": "@jupyter-widgets/controls",
          "model_name": "DescriptionStyleModel",
          "model_module_version": "1.5.0",
          "state": {
            "_view_name": "StyleView",
            "_model_name": "DescriptionStyleModel",
            "description_width": "",
            "_view_module": "@jupyter-widgets/base",
            "_model_module_version": "1.5.0",
            "_view_count": null,
            "_view_module_version": "1.2.0",
            "_model_module": "@jupyter-widgets/controls"
          }
        },
        "b932e1e87dc046b88af84e58c2c72914": {
          "model_module": "@jupyter-widgets/base",
          "model_name": "LayoutModel",
          "model_module_version": "1.2.0",
          "state": {
            "_view_name": "LayoutView",
            "grid_template_rows": null,
            "right": null,
            "justify_content": null,
            "_view_module": "@jupyter-widgets/base",
            "overflow": null,
            "_model_module_version": "1.2.0",
            "_view_count": null,
            "flex_flow": null,
            "width": null,
            "min_width": null,
            "border": null,
            "align_items": null,
            "bottom": null,
            "_model_module": "@jupyter-widgets/base",
            "top": null,
            "grid_column": null,
            "overflow_y": null,
            "overflow_x": null,
            "grid_auto_flow": null,
            "grid_area": null,
            "grid_template_columns": null,
            "flex": null,
            "_model_name": "LayoutModel",
            "justify_items": null,
            "grid_row": null,
            "max_height": null,
            "align_content": null,
            "visibility": null,
            "align_self": null,
            "height": null,
            "min_height": null,
            "padding": null,
            "grid_auto_rows": null,
            "grid_gap": null,
            "max_width": null,
            "order": null,
            "_view_module_version": "1.2.0",
            "grid_template_areas": null,
            "object_position": null,
            "object_fit": null,
            "grid_auto_columns": null,
            "margin": null,
            "display": null,
            "left": null
          }
        },
        "01ea035a4ba74009bc45cb78c1358548": {
          "model_module": "@jupyter-widgets/controls",
          "model_name": "ProgressStyleModel",
          "model_module_version": "1.5.0",
          "state": {
            "_view_name": "StyleView",
            "_model_name": "ProgressStyleModel",
            "description_width": "",
            "_view_module": "@jupyter-widgets/base",
            "_model_module_version": "1.5.0",
            "_view_count": null,
            "_view_module_version": "1.2.0",
            "bar_color": null,
            "_model_module": "@jupyter-widgets/controls"
          }
        },
        "85956d12410c4ccab630f19657cb6702": {
          "model_module": "@jupyter-widgets/base",
          "model_name": "LayoutModel",
          "model_module_version": "1.2.0",
          "state": {
            "_view_name": "LayoutView",
            "grid_template_rows": null,
            "right": null,
            "justify_content": null,
            "_view_module": "@jupyter-widgets/base",
            "overflow": null,
            "_model_module_version": "1.2.0",
            "_view_count": null,
            "flex_flow": null,
            "width": null,
            "min_width": null,
            "border": null,
            "align_items": null,
            "bottom": null,
            "_model_module": "@jupyter-widgets/base",
            "top": null,
            "grid_column": null,
            "overflow_y": null,
            "overflow_x": null,
            "grid_auto_flow": null,
            "grid_area": null,
            "grid_template_columns": null,
            "flex": null,
            "_model_name": "LayoutModel",
            "justify_items": null,
            "grid_row": null,
            "max_height": null,
            "align_content": null,
            "visibility": null,
            "align_self": null,
            "height": null,
            "min_height": null,
            "padding": null,
            "grid_auto_rows": null,
            "grid_gap": null,
            "max_width": null,
            "order": null,
            "_view_module_version": "1.2.0",
            "grid_template_areas": null,
            "object_position": null,
            "object_fit": null,
            "grid_auto_columns": null,
            "margin": null,
            "display": null,
            "left": null
          }
        },
        "e3d0353b6d5741ec9bb88402dd338721": {
          "model_module": "@jupyter-widgets/controls",
          "model_name": "DescriptionStyleModel",
          "model_module_version": "1.5.0",
          "state": {
            "_view_name": "StyleView",
            "_model_name": "DescriptionStyleModel",
            "description_width": "",
            "_view_module": "@jupyter-widgets/base",
            "_model_module_version": "1.5.0",
            "_view_count": null,
            "_view_module_version": "1.2.0",
            "_model_module": "@jupyter-widgets/controls"
          }
        },
        "551497c4443d43fd9335530e7b204167": {
          "model_module": "@jupyter-widgets/base",
          "model_name": "LayoutModel",
          "model_module_version": "1.2.0",
          "state": {
            "_view_name": "LayoutView",
            "grid_template_rows": null,
            "right": null,
            "justify_content": null,
            "_view_module": "@jupyter-widgets/base",
            "overflow": null,
            "_model_module_version": "1.2.0",
            "_view_count": null,
            "flex_flow": null,
            "width": null,
            "min_width": null,
            "border": null,
            "align_items": null,
            "bottom": null,
            "_model_module": "@jupyter-widgets/base",
            "top": null,
            "grid_column": null,
            "overflow_y": null,
            "overflow_x": null,
            "grid_auto_flow": null,
            "grid_area": null,
            "grid_template_columns": null,
            "flex": null,
            "_model_name": "LayoutModel",
            "justify_items": null,
            "grid_row": null,
            "max_height": null,
            "align_content": null,
            "visibility": null,
            "align_self": null,
            "height": null,
            "min_height": null,
            "padding": null,
            "grid_auto_rows": null,
            "grid_gap": null,
            "max_width": null,
            "order": null,
            "_view_module_version": "1.2.0",
            "grid_template_areas": null,
            "object_position": null,
            "object_fit": null,
            "grid_auto_columns": null,
            "margin": null,
            "display": null,
            "left": null
          }
        },
        "da6afc5e71bc470b922b2b1313a3813e": {
          "model_module": "@jupyter-widgets/controls",
          "model_name": "HBoxModel",
          "model_module_version": "1.5.0",
          "state": {
            "_view_name": "HBoxView",
            "_dom_classes": [],
            "_model_name": "HBoxModel",
            "_view_module": "@jupyter-widgets/controls",
            "_model_module_version": "1.5.0",
            "_view_count": null,
            "_view_module_version": "1.5.0",
            "box_style": "",
            "layout": "IPY_MODEL_f879c52e19824c8cb0c8184db89ea23c",
            "_model_module": "@jupyter-widgets/controls",
            "children": [
              "IPY_MODEL_3496f0e49da84c7796ee7205bb4e4c29",
              "IPY_MODEL_47352ff8b2214dcb99953b53ecb5423d",
              "IPY_MODEL_536c60df657a4ae8921ecfc2243d51f3"
            ]
          }
        },
        "f879c52e19824c8cb0c8184db89ea23c": {
          "model_module": "@jupyter-widgets/base",
          "model_name": "LayoutModel",
          "model_module_version": "1.2.0",
          "state": {
            "_view_name": "LayoutView",
            "grid_template_rows": null,
            "right": null,
            "justify_content": null,
            "_view_module": "@jupyter-widgets/base",
            "overflow": null,
            "_model_module_version": "1.2.0",
            "_view_count": null,
            "flex_flow": null,
            "width": null,
            "min_width": null,
            "border": null,
            "align_items": null,
            "bottom": null,
            "_model_module": "@jupyter-widgets/base",
            "top": null,
            "grid_column": null,
            "overflow_y": null,
            "overflow_x": null,
            "grid_auto_flow": null,
            "grid_area": null,
            "grid_template_columns": null,
            "flex": null,
            "_model_name": "LayoutModel",
            "justify_items": null,
            "grid_row": null,
            "max_height": null,
            "align_content": null,
            "visibility": null,
            "align_self": null,
            "height": null,
            "min_height": null,
            "padding": null,
            "grid_auto_rows": null,
            "grid_gap": null,
            "max_width": null,
            "order": null,
            "_view_module_version": "1.2.0",
            "grid_template_areas": null,
            "object_position": null,
            "object_fit": null,
            "grid_auto_columns": null,
            "margin": null,
            "display": null,
            "left": null
          }
        },
        "3496f0e49da84c7796ee7205bb4e4c29": {
          "model_module": "@jupyter-widgets/controls",
          "model_name": "HTMLModel",
          "model_module_version": "1.5.0",
          "state": {
            "_view_name": "HTMLView",
            "style": "IPY_MODEL_4722306b4f3649ed8a1cf0d3f8c2e162",
            "_dom_classes": [],
            "description": "",
            "_model_name": "HTMLModel",
            "placeholder": "​",
            "_view_module": "@jupyter-widgets/controls",
            "_model_module_version": "1.5.0",
            "value": "100%",
            "_view_count": null,
            "_view_module_version": "1.5.0",
            "description_tooltip": null,
            "_model_module": "@jupyter-widgets/controls",
            "layout": "IPY_MODEL_dc1a6f7d5e3f495f874c6c8606882a47"
          }
        },
        "47352ff8b2214dcb99953b53ecb5423d": {
          "model_module": "@jupyter-widgets/controls",
          "model_name": "FloatProgressModel",
          "model_module_version": "1.5.0",
          "state": {
            "_view_name": "ProgressView",
            "style": "IPY_MODEL_d6e767f9863b4511a2605444c67d24a9",
            "_dom_classes": [],
            "description": "",
            "_model_name": "FloatProgressModel",
            "bar_style": "success",
            "max": 6,
            "_view_module": "@jupyter-widgets/controls",
            "_model_module_version": "1.5.0",
            "value": 6,
            "_view_count": null,
            "_view_module_version": "1.5.0",
            "orientation": "horizontal",
            "min": 0,
            "description_tooltip": null,
            "_model_module": "@jupyter-widgets/controls",
            "layout": "IPY_MODEL_34e4673b16fb41dda51a5be214b16dd3"
          }
        },
        "536c60df657a4ae8921ecfc2243d51f3": {
          "model_module": "@jupyter-widgets/controls",
          "model_name": "HTMLModel",
          "model_module_version": "1.5.0",
          "state": {
            "_view_name": "HTMLView",
            "style": "IPY_MODEL_e17d314dfdd149c8926f28eb42f2e9db",
            "_dom_classes": [],
            "description": "",
            "_model_name": "HTMLModel",
            "placeholder": "​",
            "_view_module": "@jupyter-widgets/controls",
            "_model_module_version": "1.5.0",
            "value": " 6/6 [02:59&lt;00:00, 25.18s/it]",
            "_view_count": null,
            "_view_module_version": "1.5.0",
            "description_tooltip": null,
            "_model_module": "@jupyter-widgets/controls",
            "layout": "IPY_MODEL_f9b6b9e4209347538649d240c13c6067"
          }
        },
        "4722306b4f3649ed8a1cf0d3f8c2e162": {
          "model_module": "@jupyter-widgets/controls",
          "model_name": "DescriptionStyleModel",
          "model_module_version": "1.5.0",
          "state": {
            "_view_name": "StyleView",
            "_model_name": "DescriptionStyleModel",
            "description_width": "",
            "_view_module": "@jupyter-widgets/base",
            "_model_module_version": "1.5.0",
            "_view_count": null,
            "_view_module_version": "1.2.0",
            "_model_module": "@jupyter-widgets/controls"
          }
        },
        "dc1a6f7d5e3f495f874c6c8606882a47": {
          "model_module": "@jupyter-widgets/base",
          "model_name": "LayoutModel",
          "model_module_version": "1.2.0",
          "state": {
            "_view_name": "LayoutView",
            "grid_template_rows": null,
            "right": null,
            "justify_content": null,
            "_view_module": "@jupyter-widgets/base",
            "overflow": null,
            "_model_module_version": "1.2.0",
            "_view_count": null,
            "flex_flow": null,
            "width": null,
            "min_width": null,
            "border": null,
            "align_items": null,
            "bottom": null,
            "_model_module": "@jupyter-widgets/base",
            "top": null,
            "grid_column": null,
            "overflow_y": null,
            "overflow_x": null,
            "grid_auto_flow": null,
            "grid_area": null,
            "grid_template_columns": null,
            "flex": null,
            "_model_name": "LayoutModel",
            "justify_items": null,
            "grid_row": null,
            "max_height": null,
            "align_content": null,
            "visibility": null,
            "align_self": null,
            "height": null,
            "min_height": null,
            "padding": null,
            "grid_auto_rows": null,
            "grid_gap": null,
            "max_width": null,
            "order": null,
            "_view_module_version": "1.2.0",
            "grid_template_areas": null,
            "object_position": null,
            "object_fit": null,
            "grid_auto_columns": null,
            "margin": null,
            "display": null,
            "left": null
          }
        },
        "d6e767f9863b4511a2605444c67d24a9": {
          "model_module": "@jupyter-widgets/controls",
          "model_name": "ProgressStyleModel",
          "model_module_version": "1.5.0",
          "state": {
            "_view_name": "StyleView",
            "_model_name": "ProgressStyleModel",
            "description_width": "",
            "_view_module": "@jupyter-widgets/base",
            "_model_module_version": "1.5.0",
            "_view_count": null,
            "_view_module_version": "1.2.0",
            "bar_color": null,
            "_model_module": "@jupyter-widgets/controls"
          }
        },
        "34e4673b16fb41dda51a5be214b16dd3": {
          "model_module": "@jupyter-widgets/base",
          "model_name": "LayoutModel",
          "model_module_version": "1.2.0",
          "state": {
            "_view_name": "LayoutView",
            "grid_template_rows": null,
            "right": null,
            "justify_content": null,
            "_view_module": "@jupyter-widgets/base",
            "overflow": null,
            "_model_module_version": "1.2.0",
            "_view_count": null,
            "flex_flow": null,
            "width": null,
            "min_width": null,
            "border": null,
            "align_items": null,
            "bottom": null,
            "_model_module": "@jupyter-widgets/base",
            "top": null,
            "grid_column": null,
            "overflow_y": null,
            "overflow_x": null,
            "grid_auto_flow": null,
            "grid_area": null,
            "grid_template_columns": null,
            "flex": null,
            "_model_name": "LayoutModel",
            "justify_items": null,
            "grid_row": null,
            "max_height": null,
            "align_content": null,
            "visibility": null,
            "align_self": null,
            "height": null,
            "min_height": null,
            "padding": null,
            "grid_auto_rows": null,
            "grid_gap": null,
            "max_width": null,
            "order": null,
            "_view_module_version": "1.2.0",
            "grid_template_areas": null,
            "object_position": null,
            "object_fit": null,
            "grid_auto_columns": null,
            "margin": null,
            "display": null,
            "left": null
          }
        },
        "e17d314dfdd149c8926f28eb42f2e9db": {
          "model_module": "@jupyter-widgets/controls",
          "model_name": "DescriptionStyleModel",
          "model_module_version": "1.5.0",
          "state": {
            "_view_name": "StyleView",
            "_model_name": "DescriptionStyleModel",
            "description_width": "",
            "_view_module": "@jupyter-widgets/base",
            "_model_module_version": "1.5.0",
            "_view_count": null,
            "_view_module_version": "1.2.0",
            "_model_module": "@jupyter-widgets/controls"
          }
        },
        "f9b6b9e4209347538649d240c13c6067": {
          "model_module": "@jupyter-widgets/base",
          "model_name": "LayoutModel",
          "model_module_version": "1.2.0",
          "state": {
            "_view_name": "LayoutView",
            "grid_template_rows": null,
            "right": null,
            "justify_content": null,
            "_view_module": "@jupyter-widgets/base",
            "overflow": null,
            "_model_module_version": "1.2.0",
            "_view_count": null,
            "flex_flow": null,
            "width": null,
            "min_width": null,
            "border": null,
            "align_items": null,
            "bottom": null,
            "_model_module": "@jupyter-widgets/base",
            "top": null,
            "grid_column": null,
            "overflow_y": null,
            "overflow_x": null,
            "grid_auto_flow": null,
            "grid_area": null,
            "grid_template_columns": null,
            "flex": null,
            "_model_name": "LayoutModel",
            "justify_items": null,
            "grid_row": null,
            "max_height": null,
            "align_content": null,
            "visibility": null,
            "align_self": null,
            "height": null,
            "min_height": null,
            "padding": null,
            "grid_auto_rows": null,
            "grid_gap": null,
            "max_width": null,
            "order": null,
            "_view_module_version": "1.2.0",
            "grid_template_areas": null,
            "object_position": null,
            "object_fit": null,
            "grid_auto_columns": null,
            "margin": null,
            "display": null,
            "left": null
          }
        },
        "1bdf0a61b97e4fa09fbe91dd192d7cfc": {
          "model_module": "@jupyter-widgets/controls",
          "model_name": "HBoxModel",
          "model_module_version": "1.5.0",
          "state": {
            "_view_name": "HBoxView",
            "_dom_classes": [],
            "_model_name": "HBoxModel",
            "_view_module": "@jupyter-widgets/controls",
            "_model_module_version": "1.5.0",
            "_view_count": null,
            "_view_module_version": "1.5.0",
            "box_style": "",
            "layout": "IPY_MODEL_cc39e96386424f62a2fe4ff8487fde1a",
            "_model_module": "@jupyter-widgets/controls",
            "children": [
              "IPY_MODEL_aa4f106e603148bba628b0533620e77f",
              "IPY_MODEL_b67ff00b29524e5ea7626bdd5bd8ac5e",
              "IPY_MODEL_b3fd8ec7adb4497bbf49ccee9dc19446"
            ]
          }
        },
        "cc39e96386424f62a2fe4ff8487fde1a": {
          "model_module": "@jupyter-widgets/base",
          "model_name": "LayoutModel",
          "model_module_version": "1.2.0",
          "state": {
            "_view_name": "LayoutView",
            "grid_template_rows": null,
            "right": null,
            "justify_content": null,
            "_view_module": "@jupyter-widgets/base",
            "overflow": null,
            "_model_module_version": "1.2.0",
            "_view_count": null,
            "flex_flow": null,
            "width": null,
            "min_width": null,
            "border": null,
            "align_items": null,
            "bottom": null,
            "_model_module": "@jupyter-widgets/base",
            "top": null,
            "grid_column": null,
            "overflow_y": null,
            "overflow_x": null,
            "grid_auto_flow": null,
            "grid_area": null,
            "grid_template_columns": null,
            "flex": null,
            "_model_name": "LayoutModel",
            "justify_items": null,
            "grid_row": null,
            "max_height": null,
            "align_content": null,
            "visibility": null,
            "align_self": null,
            "height": null,
            "min_height": null,
            "padding": null,
            "grid_auto_rows": null,
            "grid_gap": null,
            "max_width": null,
            "order": null,
            "_view_module_version": "1.2.0",
            "grid_template_areas": null,
            "object_position": null,
            "object_fit": null,
            "grid_auto_columns": null,
            "margin": null,
            "display": null,
            "left": null
          }
        },
        "aa4f106e603148bba628b0533620e77f": {
          "model_module": "@jupyter-widgets/controls",
          "model_name": "HTMLModel",
          "model_module_version": "1.5.0",
          "state": {
            "_view_name": "HTMLView",
            "style": "IPY_MODEL_8021cb035c2e48c58541487556a2b650",
            "_dom_classes": [],
            "description": "",
            "_model_name": "HTMLModel",
            "placeholder": "​",
            "_view_module": "@jupyter-widgets/controls",
            "_model_module_version": "1.5.0",
            "value": "100%",
            "_view_count": null,
            "_view_module_version": "1.5.0",
            "description_tooltip": null,
            "_model_module": "@jupyter-widgets/controls",
            "layout": "IPY_MODEL_51bfc4ce9a2341b7bd3944aec43a518c"
          }
        },
        "b67ff00b29524e5ea7626bdd5bd8ac5e": {
          "model_module": "@jupyter-widgets/controls",
          "model_name": "FloatProgressModel",
          "model_module_version": "1.5.0",
          "state": {
            "_view_name": "ProgressView",
            "style": "IPY_MODEL_ec74adfa97ab469c9c67847c70f39fbb",
            "_dom_classes": [],
            "description": "",
            "_model_name": "FloatProgressModel",
            "bar_style": "success",
            "max": 6,
            "_view_module": "@jupyter-widgets/controls",
            "_model_module_version": "1.5.0",
            "value": 6,
            "_view_count": null,
            "_view_module_version": "1.5.0",
            "orientation": "horizontal",
            "min": 0,
            "description_tooltip": null,
            "_model_module": "@jupyter-widgets/controls",
            "layout": "IPY_MODEL_10bfb3f15d5c40d1beccebde367cb7cf"
          }
        },
        "b3fd8ec7adb4497bbf49ccee9dc19446": {
          "model_module": "@jupyter-widgets/controls",
          "model_name": "HTMLModel",
          "model_module_version": "1.5.0",
          "state": {
            "_view_name": "HTMLView",
            "style": "IPY_MODEL_4bcfbca35f3b49399c870a3dc3dd2df5",
            "_dom_classes": [],
            "description": "",
            "_model_name": "HTMLModel",
            "placeholder": "​",
            "_view_module": "@jupyter-widgets/controls",
            "_model_module_version": "1.5.0",
            "value": " 6/6 [01:12&lt;00:00, 11.36s/it]",
            "_view_count": null,
            "_view_module_version": "1.5.0",
            "description_tooltip": null,
            "_model_module": "@jupyter-widgets/controls",
            "layout": "IPY_MODEL_7c674a141ec14e0c9a28e3709b047c86"
          }
        },
        "8021cb035c2e48c58541487556a2b650": {
          "model_module": "@jupyter-widgets/controls",
          "model_name": "DescriptionStyleModel",
          "model_module_version": "1.5.0",
          "state": {
            "_view_name": "StyleView",
            "_model_name": "DescriptionStyleModel",
            "description_width": "",
            "_view_module": "@jupyter-widgets/base",
            "_model_module_version": "1.5.0",
            "_view_count": null,
            "_view_module_version": "1.2.0",
            "_model_module": "@jupyter-widgets/controls"
          }
        },
        "51bfc4ce9a2341b7bd3944aec43a518c": {
          "model_module": "@jupyter-widgets/base",
          "model_name": "LayoutModel",
          "model_module_version": "1.2.0",
          "state": {
            "_view_name": "LayoutView",
            "grid_template_rows": null,
            "right": null,
            "justify_content": null,
            "_view_module": "@jupyter-widgets/base",
            "overflow": null,
            "_model_module_version": "1.2.0",
            "_view_count": null,
            "flex_flow": null,
            "width": null,
            "min_width": null,
            "border": null,
            "align_items": null,
            "bottom": null,
            "_model_module": "@jupyter-widgets/base",
            "top": null,
            "grid_column": null,
            "overflow_y": null,
            "overflow_x": null,
            "grid_auto_flow": null,
            "grid_area": null,
            "grid_template_columns": null,
            "flex": null,
            "_model_name": "LayoutModel",
            "justify_items": null,
            "grid_row": null,
            "max_height": null,
            "align_content": null,
            "visibility": null,
            "align_self": null,
            "height": null,
            "min_height": null,
            "padding": null,
            "grid_auto_rows": null,
            "grid_gap": null,
            "max_width": null,
            "order": null,
            "_view_module_version": "1.2.0",
            "grid_template_areas": null,
            "object_position": null,
            "object_fit": null,
            "grid_auto_columns": null,
            "margin": null,
            "display": null,
            "left": null
          }
        },
        "ec74adfa97ab469c9c67847c70f39fbb": {
          "model_module": "@jupyter-widgets/controls",
          "model_name": "ProgressStyleModel",
          "model_module_version": "1.5.0",
          "state": {
            "_view_name": "StyleView",
            "_model_name": "ProgressStyleModel",
            "description_width": "",
            "_view_module": "@jupyter-widgets/base",
            "_model_module_version": "1.5.0",
            "_view_count": null,
            "_view_module_version": "1.2.0",
            "bar_color": null,
            "_model_module": "@jupyter-widgets/controls"
          }
        },
        "10bfb3f15d5c40d1beccebde367cb7cf": {
          "model_module": "@jupyter-widgets/base",
          "model_name": "LayoutModel",
          "model_module_version": "1.2.0",
          "state": {
            "_view_name": "LayoutView",
            "grid_template_rows": null,
            "right": null,
            "justify_content": null,
            "_view_module": "@jupyter-widgets/base",
            "overflow": null,
            "_model_module_version": "1.2.0",
            "_view_count": null,
            "flex_flow": null,
            "width": null,
            "min_width": null,
            "border": null,
            "align_items": null,
            "bottom": null,
            "_model_module": "@jupyter-widgets/base",
            "top": null,
            "grid_column": null,
            "overflow_y": null,
            "overflow_x": null,
            "grid_auto_flow": null,
            "grid_area": null,
            "grid_template_columns": null,
            "flex": null,
            "_model_name": "LayoutModel",
            "justify_items": null,
            "grid_row": null,
            "max_height": null,
            "align_content": null,
            "visibility": null,
            "align_self": null,
            "height": null,
            "min_height": null,
            "padding": null,
            "grid_auto_rows": null,
            "grid_gap": null,
            "max_width": null,
            "order": null,
            "_view_module_version": "1.2.0",
            "grid_template_areas": null,
            "object_position": null,
            "object_fit": null,
            "grid_auto_columns": null,
            "margin": null,
            "display": null,
            "left": null
          }
        },
        "4bcfbca35f3b49399c870a3dc3dd2df5": {
          "model_module": "@jupyter-widgets/controls",
          "model_name": "DescriptionStyleModel",
          "model_module_version": "1.5.0",
          "state": {
            "_view_name": "StyleView",
            "_model_name": "DescriptionStyleModel",
            "description_width": "",
            "_view_module": "@jupyter-widgets/base",
            "_model_module_version": "1.5.0",
            "_view_count": null,
            "_view_module_version": "1.2.0",
            "_model_module": "@jupyter-widgets/controls"
          }
        },
        "7c674a141ec14e0c9a28e3709b047c86": {
          "model_module": "@jupyter-widgets/base",
          "model_name": "LayoutModel",
          "model_module_version": "1.2.0",
          "state": {
            "_view_name": "LayoutView",
            "grid_template_rows": null,
            "right": null,
            "justify_content": null,
            "_view_module": "@jupyter-widgets/base",
            "overflow": null,
            "_model_module_version": "1.2.0",
            "_view_count": null,
            "flex_flow": null,
            "width": null,
            "min_width": null,
            "border": null,
            "align_items": null,
            "bottom": null,
            "_model_module": "@jupyter-widgets/base",
            "top": null,
            "grid_column": null,
            "overflow_y": null,
            "overflow_x": null,
            "grid_auto_flow": null,
            "grid_area": null,
            "grid_template_columns": null,
            "flex": null,
            "_model_name": "LayoutModel",
            "justify_items": null,
            "grid_row": null,
            "max_height": null,
            "align_content": null,
            "visibility": null,
            "align_self": null,
            "height": null,
            "min_height": null,
            "padding": null,
            "grid_auto_rows": null,
            "grid_gap": null,
            "max_width": null,
            "order": null,
            "_view_module_version": "1.2.0",
            "grid_template_areas": null,
            "object_position": null,
            "object_fit": null,
            "grid_auto_columns": null,
            "margin": null,
            "display": null,
            "left": null
          }
        },
        "d6868535b6804a5784503da0e311bdc2": {
          "model_module": "@jupyter-widgets/controls",
          "model_name": "HBoxModel",
          "model_module_version": "1.5.0",
          "state": {
            "_view_name": "HBoxView",
            "_dom_classes": [],
            "_model_name": "HBoxModel",
            "_view_module": "@jupyter-widgets/controls",
            "_model_module_version": "1.5.0",
            "_view_count": null,
            "_view_module_version": "1.5.0",
            "box_style": "",
            "layout": "IPY_MODEL_b57d1c9e9a0d4393a5fe5177038b7b86",
            "_model_module": "@jupyter-widgets/controls",
            "children": [
              "IPY_MODEL_b6f277642b9b41af861ab872fd7e1304",
              "IPY_MODEL_a92fc31b3e3440a3ac19df3215b1d026",
              "IPY_MODEL_9d822859fac249b19c0fddaff0a71ea9"
            ]
          }
        },
        "b57d1c9e9a0d4393a5fe5177038b7b86": {
          "model_module": "@jupyter-widgets/base",
          "model_name": "LayoutModel",
          "model_module_version": "1.2.0",
          "state": {
            "_view_name": "LayoutView",
            "grid_template_rows": null,
            "right": null,
            "justify_content": null,
            "_view_module": "@jupyter-widgets/base",
            "overflow": null,
            "_model_module_version": "1.2.0",
            "_view_count": null,
            "flex_flow": null,
            "width": null,
            "min_width": null,
            "border": null,
            "align_items": null,
            "bottom": null,
            "_model_module": "@jupyter-widgets/base",
            "top": null,
            "grid_column": null,
            "overflow_y": null,
            "overflow_x": null,
            "grid_auto_flow": null,
            "grid_area": null,
            "grid_template_columns": null,
            "flex": null,
            "_model_name": "LayoutModel",
            "justify_items": null,
            "grid_row": null,
            "max_height": null,
            "align_content": null,
            "visibility": null,
            "align_self": null,
            "height": null,
            "min_height": null,
            "padding": null,
            "grid_auto_rows": null,
            "grid_gap": null,
            "max_width": null,
            "order": null,
            "_view_module_version": "1.2.0",
            "grid_template_areas": null,
            "object_position": null,
            "object_fit": null,
            "grid_auto_columns": null,
            "margin": null,
            "display": null,
            "left": null
          }
        },
        "b6f277642b9b41af861ab872fd7e1304": {
          "model_module": "@jupyter-widgets/controls",
          "model_name": "HTMLModel",
          "model_module_version": "1.5.0",
          "state": {
            "_view_name": "HTMLView",
            "style": "IPY_MODEL_4a3b3e5b33e84eabbe1919ccd31ca431",
            "_dom_classes": [],
            "description": "",
            "_model_name": "HTMLModel",
            "placeholder": "​",
            "_view_module": "@jupyter-widgets/controls",
            "_model_module_version": "1.5.0",
            "value": "100%",
            "_view_count": null,
            "_view_module_version": "1.5.0",
            "description_tooltip": null,
            "_model_module": "@jupyter-widgets/controls",
            "layout": "IPY_MODEL_39e9efed448349c39f8fd0704ec60e3d"
          }
        },
        "a92fc31b3e3440a3ac19df3215b1d026": {
          "model_module": "@jupyter-widgets/controls",
          "model_name": "FloatProgressModel",
          "model_module_version": "1.5.0",
          "state": {
            "_view_name": "ProgressView",
            "style": "IPY_MODEL_441627d4ea0d4a1d9baba56acd207964",
            "_dom_classes": [],
            "description": "",
            "_model_name": "FloatProgressModel",
            "bar_style": "success",
            "max": 6,
            "_view_module": "@jupyter-widgets/controls",
            "_model_module_version": "1.5.0",
            "value": 6,
            "_view_count": null,
            "_view_module_version": "1.5.0",
            "orientation": "horizontal",
            "min": 0,
            "description_tooltip": null,
            "_model_module": "@jupyter-widgets/controls",
            "layout": "IPY_MODEL_db944ad3768c4da4838cccf0ead8c4aa"
          }
        },
        "9d822859fac249b19c0fddaff0a71ea9": {
          "model_module": "@jupyter-widgets/controls",
          "model_name": "HTMLModel",
          "model_module_version": "1.5.0",
          "state": {
            "_view_name": "HTMLView",
            "style": "IPY_MODEL_8d7cc9db5fc94a268c322651610e03ff",
            "_dom_classes": [],
            "description": "",
            "_model_name": "HTMLModel",
            "placeholder": "​",
            "_view_module": "@jupyter-widgets/controls",
            "_model_module_version": "1.5.0",
            "value": " 6/6 [00:57&lt;00:00, 10.42s/it]",
            "_view_count": null,
            "_view_module_version": "1.5.0",
            "description_tooltip": null,
            "_model_module": "@jupyter-widgets/controls",
            "layout": "IPY_MODEL_fd45f41eb0ae4cf0ba26706c7d304cb4"
          }
        },
        "4a3b3e5b33e84eabbe1919ccd31ca431": {
          "model_module": "@jupyter-widgets/controls",
          "model_name": "DescriptionStyleModel",
          "model_module_version": "1.5.0",
          "state": {
            "_view_name": "StyleView",
            "_model_name": "DescriptionStyleModel",
            "description_width": "",
            "_view_module": "@jupyter-widgets/base",
            "_model_module_version": "1.5.0",
            "_view_count": null,
            "_view_module_version": "1.2.0",
            "_model_module": "@jupyter-widgets/controls"
          }
        },
        "39e9efed448349c39f8fd0704ec60e3d": {
          "model_module": "@jupyter-widgets/base",
          "model_name": "LayoutModel",
          "model_module_version": "1.2.0",
          "state": {
            "_view_name": "LayoutView",
            "grid_template_rows": null,
            "right": null,
            "justify_content": null,
            "_view_module": "@jupyter-widgets/base",
            "overflow": null,
            "_model_module_version": "1.2.0",
            "_view_count": null,
            "flex_flow": null,
            "width": null,
            "min_width": null,
            "border": null,
            "align_items": null,
            "bottom": null,
            "_model_module": "@jupyter-widgets/base",
            "top": null,
            "grid_column": null,
            "overflow_y": null,
            "overflow_x": null,
            "grid_auto_flow": null,
            "grid_area": null,
            "grid_template_columns": null,
            "flex": null,
            "_model_name": "LayoutModel",
            "justify_items": null,
            "grid_row": null,
            "max_height": null,
            "align_content": null,
            "visibility": null,
            "align_self": null,
            "height": null,
            "min_height": null,
            "padding": null,
            "grid_auto_rows": null,
            "grid_gap": null,
            "max_width": null,
            "order": null,
            "_view_module_version": "1.2.0",
            "grid_template_areas": null,
            "object_position": null,
            "object_fit": null,
            "grid_auto_columns": null,
            "margin": null,
            "display": null,
            "left": null
          }
        },
        "441627d4ea0d4a1d9baba56acd207964": {
          "model_module": "@jupyter-widgets/controls",
          "model_name": "ProgressStyleModel",
          "model_module_version": "1.5.0",
          "state": {
            "_view_name": "StyleView",
            "_model_name": "ProgressStyleModel",
            "description_width": "",
            "_view_module": "@jupyter-widgets/base",
            "_model_module_version": "1.5.0",
            "_view_count": null,
            "_view_module_version": "1.2.0",
            "bar_color": null,
            "_model_module": "@jupyter-widgets/controls"
          }
        },
        "db944ad3768c4da4838cccf0ead8c4aa": {
          "model_module": "@jupyter-widgets/base",
          "model_name": "LayoutModel",
          "model_module_version": "1.2.0",
          "state": {
            "_view_name": "LayoutView",
            "grid_template_rows": null,
            "right": null,
            "justify_content": null,
            "_view_module": "@jupyter-widgets/base",
            "overflow": null,
            "_model_module_version": "1.2.0",
            "_view_count": null,
            "flex_flow": null,
            "width": null,
            "min_width": null,
            "border": null,
            "align_items": null,
            "bottom": null,
            "_model_module": "@jupyter-widgets/base",
            "top": null,
            "grid_column": null,
            "overflow_y": null,
            "overflow_x": null,
            "grid_auto_flow": null,
            "grid_area": null,
            "grid_template_columns": null,
            "flex": null,
            "_model_name": "LayoutModel",
            "justify_items": null,
            "grid_row": null,
            "max_height": null,
            "align_content": null,
            "visibility": null,
            "align_self": null,
            "height": null,
            "min_height": null,
            "padding": null,
            "grid_auto_rows": null,
            "grid_gap": null,
            "max_width": null,
            "order": null,
            "_view_module_version": "1.2.0",
            "grid_template_areas": null,
            "object_position": null,
            "object_fit": null,
            "grid_auto_columns": null,
            "margin": null,
            "display": null,
            "left": null
          }
        },
        "8d7cc9db5fc94a268c322651610e03ff": {
          "model_module": "@jupyter-widgets/controls",
          "model_name": "DescriptionStyleModel",
          "model_module_version": "1.5.0",
          "state": {
            "_view_name": "StyleView",
            "_model_name": "DescriptionStyleModel",
            "description_width": "",
            "_view_module": "@jupyter-widgets/base",
            "_model_module_version": "1.5.0",
            "_view_count": null,
            "_view_module_version": "1.2.0",
            "_model_module": "@jupyter-widgets/controls"
          }
        },
        "fd45f41eb0ae4cf0ba26706c7d304cb4": {
          "model_module": "@jupyter-widgets/base",
          "model_name": "LayoutModel",
          "model_module_version": "1.2.0",
          "state": {
            "_view_name": "LayoutView",
            "grid_template_rows": null,
            "right": null,
            "justify_content": null,
            "_view_module": "@jupyter-widgets/base",
            "overflow": null,
            "_model_module_version": "1.2.0",
            "_view_count": null,
            "flex_flow": null,
            "width": null,
            "min_width": null,
            "border": null,
            "align_items": null,
            "bottom": null,
            "_model_module": "@jupyter-widgets/base",
            "top": null,
            "grid_column": null,
            "overflow_y": null,
            "overflow_x": null,
            "grid_auto_flow": null,
            "grid_area": null,
            "grid_template_columns": null,
            "flex": null,
            "_model_name": "LayoutModel",
            "justify_items": null,
            "grid_row": null,
            "max_height": null,
            "align_content": null,
            "visibility": null,
            "align_self": null,
            "height": null,
            "min_height": null,
            "padding": null,
            "grid_auto_rows": null,
            "grid_gap": null,
            "max_width": null,
            "order": null,
            "_view_module_version": "1.2.0",
            "grid_template_areas": null,
            "object_position": null,
            "object_fit": null,
            "grid_auto_columns": null,
            "margin": null,
            "display": null,
            "left": null
          }
        }
      }
    }
  },
  "cells": [
    {
      "cell_type": "markdown",
      "metadata": {
        "id": "pqYiuFly2fLb"
      },
      "source": [
        "# S12 T01: Aprenentatge Supervisat - Regressions"
      ]
    },
    {
      "cell_type": "markdown",
      "metadata": {
        "id": "1M4DbpWUBr7x"
      },
      "source": [
        "Observacions:\n",
        "1.   Notebook desenvolupat utilitzant Google Colab\n",
        "2.   Repeteixo en aquest notebook el preprocessament del dataset que ja haviem fet en tasques anteriors per tal que el notebook sigui \"autocontingut\"\n",
        "\n"
      ]
    },
    {
      "cell_type": "code",
      "metadata": {
        "id": "nwryAgBJxtbB"
      },
      "source": [
        "# Upgrade Sklearn (in Colab) to latest version 0.24.2\n",
        "!pip install scikit-learn --upgrade  &> /dev/null"
      ],
      "execution_count": 1,
      "outputs": []
    },
    {
      "cell_type": "code",
      "metadata": {
        "id": "tx9PwCIk3nLt"
      },
      "source": [
        "# Imports\n",
        "import pandas as pd\n",
        "import numpy as np\n",
        "import matplotlib.pyplot as plt\n",
        "\n",
        "from sklearn.model_selection import train_test_split, cross_validate\n",
        "from sklearn.preprocessing import OneHotEncoder, StandardScaler, FunctionTransformer\n",
        "from sklearn.pipeline import Pipeline\n",
        "from sklearn.compose import ColumnTransformer, TransformedTargetRegressor\n",
        "from sklearn import set_config\n",
        "from sklearn.metrics import mean_squared_error, r2_score\n",
        "\n",
        "from sklearn.linear_model import LinearRegression, Lasso, Ridge, ElasticNet\n",
        "from sklearn.tree import DecisionTreeRegressor\n",
        "from sklearn.ensemble import RandomForestRegressor\n",
        "from sklearn.neural_network import MLPRegressor\n",
        "from sklearn.base import clone\n",
        "\n",
        "import time\n",
        "from tabulate import tabulate\n",
        "from tqdm.notebook import tqdm\n",
        "from functools import partial\n",
        "from tempfile import mkdtemp\n",
        "from scipy.stats import iqr\n",
        "\n",
        "import matplotlib.pyplot as plt\n",
        "import seaborn as sns\n"
      ],
      "execution_count": 2,
      "outputs": []
    },
    {
      "cell_type": "code",
      "metadata": {
        "id": "OOk_EiJfF4uD"
      },
      "source": [
        "# Notebook configuration\n",
        "\n",
        "# Plots\n",
        "%matplotlib inline\n",
        "\n",
        "# Pandas\n",
        "pd.set_option(\"display.max_columns\", None) # Display all columns of DataFrame\n",
        "\n",
        "# Pipelines\n",
        "set_config(display='diagram')  # Display pipelines graphically\n",
        "\n",
        "# Progress bars\n",
        "tqdm = partial(tqdm, position=0, leave=True)\n",
        "\n",
        "# Constants\n",
        "RS = 123  # Random_state constant value\n"
      ],
      "execution_count": 3,
      "outputs": []
    },
    {
      "cell_type": "markdown",
      "metadata": {
        "id": "rw0MUqbz2fI8"
      },
      "source": [
        "## Exercici 1\n",
        "Crea almenys tres models de regressió diferents per intentar predir el millor possible l’endarreriment dels vols (ArrDelay) de DelayedFlights.csv."
      ]
    },
    {
      "cell_type": "markdown",
      "metadata": {
        "id": "FjiBn7aS3ytZ"
      },
      "source": [
        "### Preprocessament"
      ]
    },
    {
      "cell_type": "code",
      "metadata": {
        "colab": {
          "base_uri": "https://localhost:8080/"
        },
        "id": "Abl0Axyr3jta",
        "outputId": "40a9f4a1-eff8-4225-ba2b-13ea9f386bf9"
      },
      "source": [
        "# Import DataSet directly from Kaggle\n",
        "\n",
        "# Note: we add '&> /dev/null' to avoid displaying output of terminal commands \n",
        "\n",
        "datasetName = 'giovamata/airlinedelaycauses'\n",
        "zipName = 'airlinedelaycauses.zip'\n",
        "\n",
        "# Delete files on '/content' folder in Google Colab\n",
        "!rm /content/*.* &> /dev/null \n",
        "\n",
        "!pip install kaggle &> /dev/null\n",
        "\n",
        "!wget -O kaggle.json https://www.dropbox.com/s/xm28qj0cdfopm6c/kaggle.json?dl=0 &> /dev/null\n",
        "!mkdir -p ~/.kaggle/ && mv kaggle.json ~/.kaggle/ && chmod 600 ~/.kaggle/kaggle.json &> /dev/null\n",
        "\n",
        "!kaggle datasets download $datasetName &> /dev/null\n",
        "\n",
        "!unzip $zipName"
      ],
      "execution_count": 4,
      "outputs": [
        {
          "output_type": "stream",
          "name": "stdout",
          "text": [
            "Archive:  airlinedelaycauses.zip\n",
            "  inflating: DelayedFlights.csv      \n",
            "  inflating: st99_d00.dbf            \n",
            "  inflating: st99_d00.shp            \n",
            "  inflating: st99_d00.shx            \n"
          ]
        }
      ]
    },
    {
      "cell_type": "code",
      "metadata": {
        "colab": {
          "base_uri": "https://localhost:8080/",
          "height": 0
        },
        "id": "A0RftXWx4vTg",
        "outputId": "a69ecc85-7194-4473-d18e-bbf4f0b08e3d"
      },
      "source": [
        "# We create a DataFrame\n",
        "df = pd.read_csv('/content/DelayedFlights.csv', index_col=0)\n",
        "\n",
        "# We can delete feature FlightNum as it does not bring any relevant information\n",
        "# (it is arbitrary, there can be several flights with same number and different destinations)\n",
        "df.drop(columns=['FlightNum'], inplace=True)\n",
        "\n",
        "# We delete feature Year (all samples belong to same year 2008)\n",
        "df.drop(columns=['Year'], inplace=True)\n",
        "\n",
        "# Renaming of feature DayofMonth as DayOfMonth, for consistency\n",
        "df.rename(columns = {'DayofMonth': 'DayOfMonth'}, inplace = True)\n",
        "\n",
        "# Setting type of Month, DayOfMonth, DayOfWeek and CancellationCode as categorical\n",
        "df[['Month','DayOfMonth','DayOfWeek', 'CancellationCode']] = df[['Month','DayOfMonth','DayOfWeek', 'CancellationCode']].astype('category')\n",
        "\n",
        "# Setting type of Cancelled and Diverted as boolean\n",
        "df[['Cancelled','Diverted']] = df[['Cancelled','Diverted']].astype('bool')\n",
        "\n",
        "df.head()"
      ],
      "execution_count": 5,
      "outputs": [
        {
          "output_type": "stream",
          "name": "stderr",
          "text": [
            "/usr/local/lib/python3.7/dist-packages/numpy/lib/arraysetops.py:580: FutureWarning: elementwise comparison failed; returning scalar instead, but in the future will perform elementwise comparison\n",
            "  mask |= (ar1 == a)\n"
          ]
        },
        {
          "output_type": "execute_result",
          "data": {
            "text/html": [
              "<div>\n",
              "<style scoped>\n",
              "    .dataframe tbody tr th:only-of-type {\n",
              "        vertical-align: middle;\n",
              "    }\n",
              "\n",
              "    .dataframe tbody tr th {\n",
              "        vertical-align: top;\n",
              "    }\n",
              "\n",
              "    .dataframe thead th {\n",
              "        text-align: right;\n",
              "    }\n",
              "</style>\n",
              "<table border=\"1\" class=\"dataframe\">\n",
              "  <thead>\n",
              "    <tr style=\"text-align: right;\">\n",
              "      <th></th>\n",
              "      <th>Month</th>\n",
              "      <th>DayOfMonth</th>\n",
              "      <th>DayOfWeek</th>\n",
              "      <th>DepTime</th>\n",
              "      <th>CRSDepTime</th>\n",
              "      <th>ArrTime</th>\n",
              "      <th>CRSArrTime</th>\n",
              "      <th>UniqueCarrier</th>\n",
              "      <th>TailNum</th>\n",
              "      <th>ActualElapsedTime</th>\n",
              "      <th>CRSElapsedTime</th>\n",
              "      <th>AirTime</th>\n",
              "      <th>ArrDelay</th>\n",
              "      <th>DepDelay</th>\n",
              "      <th>Origin</th>\n",
              "      <th>Dest</th>\n",
              "      <th>Distance</th>\n",
              "      <th>TaxiIn</th>\n",
              "      <th>TaxiOut</th>\n",
              "      <th>Cancelled</th>\n",
              "      <th>CancellationCode</th>\n",
              "      <th>Diverted</th>\n",
              "      <th>CarrierDelay</th>\n",
              "      <th>WeatherDelay</th>\n",
              "      <th>NASDelay</th>\n",
              "      <th>SecurityDelay</th>\n",
              "      <th>LateAircraftDelay</th>\n",
              "    </tr>\n",
              "  </thead>\n",
              "  <tbody>\n",
              "    <tr>\n",
              "      <th>0</th>\n",
              "      <td>1</td>\n",
              "      <td>3</td>\n",
              "      <td>4</td>\n",
              "      <td>2003.0</td>\n",
              "      <td>1955</td>\n",
              "      <td>2211.0</td>\n",
              "      <td>2225</td>\n",
              "      <td>WN</td>\n",
              "      <td>N712SW</td>\n",
              "      <td>128.0</td>\n",
              "      <td>150.0</td>\n",
              "      <td>116.0</td>\n",
              "      <td>-14.0</td>\n",
              "      <td>8.0</td>\n",
              "      <td>IAD</td>\n",
              "      <td>TPA</td>\n",
              "      <td>810</td>\n",
              "      <td>4.0</td>\n",
              "      <td>8.0</td>\n",
              "      <td>False</td>\n",
              "      <td>N</td>\n",
              "      <td>False</td>\n",
              "      <td>NaN</td>\n",
              "      <td>NaN</td>\n",
              "      <td>NaN</td>\n",
              "      <td>NaN</td>\n",
              "      <td>NaN</td>\n",
              "    </tr>\n",
              "    <tr>\n",
              "      <th>1</th>\n",
              "      <td>1</td>\n",
              "      <td>3</td>\n",
              "      <td>4</td>\n",
              "      <td>754.0</td>\n",
              "      <td>735</td>\n",
              "      <td>1002.0</td>\n",
              "      <td>1000</td>\n",
              "      <td>WN</td>\n",
              "      <td>N772SW</td>\n",
              "      <td>128.0</td>\n",
              "      <td>145.0</td>\n",
              "      <td>113.0</td>\n",
              "      <td>2.0</td>\n",
              "      <td>19.0</td>\n",
              "      <td>IAD</td>\n",
              "      <td>TPA</td>\n",
              "      <td>810</td>\n",
              "      <td>5.0</td>\n",
              "      <td>10.0</td>\n",
              "      <td>False</td>\n",
              "      <td>N</td>\n",
              "      <td>False</td>\n",
              "      <td>NaN</td>\n",
              "      <td>NaN</td>\n",
              "      <td>NaN</td>\n",
              "      <td>NaN</td>\n",
              "      <td>NaN</td>\n",
              "    </tr>\n",
              "    <tr>\n",
              "      <th>2</th>\n",
              "      <td>1</td>\n",
              "      <td>3</td>\n",
              "      <td>4</td>\n",
              "      <td>628.0</td>\n",
              "      <td>620</td>\n",
              "      <td>804.0</td>\n",
              "      <td>750</td>\n",
              "      <td>WN</td>\n",
              "      <td>N428WN</td>\n",
              "      <td>96.0</td>\n",
              "      <td>90.0</td>\n",
              "      <td>76.0</td>\n",
              "      <td>14.0</td>\n",
              "      <td>8.0</td>\n",
              "      <td>IND</td>\n",
              "      <td>BWI</td>\n",
              "      <td>515</td>\n",
              "      <td>3.0</td>\n",
              "      <td>17.0</td>\n",
              "      <td>False</td>\n",
              "      <td>N</td>\n",
              "      <td>False</td>\n",
              "      <td>NaN</td>\n",
              "      <td>NaN</td>\n",
              "      <td>NaN</td>\n",
              "      <td>NaN</td>\n",
              "      <td>NaN</td>\n",
              "    </tr>\n",
              "    <tr>\n",
              "      <th>4</th>\n",
              "      <td>1</td>\n",
              "      <td>3</td>\n",
              "      <td>4</td>\n",
              "      <td>1829.0</td>\n",
              "      <td>1755</td>\n",
              "      <td>1959.0</td>\n",
              "      <td>1925</td>\n",
              "      <td>WN</td>\n",
              "      <td>N464WN</td>\n",
              "      <td>90.0</td>\n",
              "      <td>90.0</td>\n",
              "      <td>77.0</td>\n",
              "      <td>34.0</td>\n",
              "      <td>34.0</td>\n",
              "      <td>IND</td>\n",
              "      <td>BWI</td>\n",
              "      <td>515</td>\n",
              "      <td>3.0</td>\n",
              "      <td>10.0</td>\n",
              "      <td>False</td>\n",
              "      <td>N</td>\n",
              "      <td>False</td>\n",
              "      <td>2.0</td>\n",
              "      <td>0.0</td>\n",
              "      <td>0.0</td>\n",
              "      <td>0.0</td>\n",
              "      <td>32.0</td>\n",
              "    </tr>\n",
              "    <tr>\n",
              "      <th>5</th>\n",
              "      <td>1</td>\n",
              "      <td>3</td>\n",
              "      <td>4</td>\n",
              "      <td>1940.0</td>\n",
              "      <td>1915</td>\n",
              "      <td>2121.0</td>\n",
              "      <td>2110</td>\n",
              "      <td>WN</td>\n",
              "      <td>N726SW</td>\n",
              "      <td>101.0</td>\n",
              "      <td>115.0</td>\n",
              "      <td>87.0</td>\n",
              "      <td>11.0</td>\n",
              "      <td>25.0</td>\n",
              "      <td>IND</td>\n",
              "      <td>JAX</td>\n",
              "      <td>688</td>\n",
              "      <td>4.0</td>\n",
              "      <td>10.0</td>\n",
              "      <td>False</td>\n",
              "      <td>N</td>\n",
              "      <td>False</td>\n",
              "      <td>NaN</td>\n",
              "      <td>NaN</td>\n",
              "      <td>NaN</td>\n",
              "      <td>NaN</td>\n",
              "      <td>NaN</td>\n",
              "    </tr>\n",
              "  </tbody>\n",
              "</table>\n",
              "</div>"
            ],
            "text/plain": [
              "  Month DayOfMonth DayOfWeek  DepTime  CRSDepTime  ArrTime  CRSArrTime  \\\n",
              "0     1          3         4   2003.0        1955   2211.0        2225   \n",
              "1     1          3         4    754.0         735   1002.0        1000   \n",
              "2     1          3         4    628.0         620    804.0         750   \n",
              "4     1          3         4   1829.0        1755   1959.0        1925   \n",
              "5     1          3         4   1940.0        1915   2121.0        2110   \n",
              "\n",
              "  UniqueCarrier TailNum  ActualElapsedTime  CRSElapsedTime  AirTime  ArrDelay  \\\n",
              "0            WN  N712SW              128.0           150.0    116.0     -14.0   \n",
              "1            WN  N772SW              128.0           145.0    113.0       2.0   \n",
              "2            WN  N428WN               96.0            90.0     76.0      14.0   \n",
              "4            WN  N464WN               90.0            90.0     77.0      34.0   \n",
              "5            WN  N726SW              101.0           115.0     87.0      11.0   \n",
              "\n",
              "   DepDelay Origin Dest  Distance  TaxiIn  TaxiOut  Cancelled  \\\n",
              "0       8.0    IAD  TPA       810     4.0      8.0      False   \n",
              "1      19.0    IAD  TPA       810     5.0     10.0      False   \n",
              "2       8.0    IND  BWI       515     3.0     17.0      False   \n",
              "4      34.0    IND  BWI       515     3.0     10.0      False   \n",
              "5      25.0    IND  JAX       688     4.0     10.0      False   \n",
              "\n",
              "  CancellationCode  Diverted  CarrierDelay  WeatherDelay  NASDelay  \\\n",
              "0                N     False           NaN           NaN       NaN   \n",
              "1                N     False           NaN           NaN       NaN   \n",
              "2                N     False           NaN           NaN       NaN   \n",
              "4                N     False           2.0           0.0       0.0   \n",
              "5                N     False           NaN           NaN       NaN   \n",
              "\n",
              "   SecurityDelay  LateAircraftDelay  \n",
              "0            NaN                NaN  \n",
              "1            NaN                NaN  \n",
              "2            NaN                NaN  \n",
              "4            0.0               32.0  \n",
              "5            NaN                NaN  "
            ]
          },
          "metadata": {},
          "execution_count": 5
        }
      ]
    },
    {
      "cell_type": "code",
      "metadata": {
        "colab": {
          "base_uri": "https://localhost:8080/",
          "height": 0
        },
        "id": "RWhuQ2b75E0s",
        "outputId": "ffba2989-ae4f-4c04-f629-a58cc20015d1"
      },
      "source": [
        "# Correlation Heatmap between features\n",
        "plt.figure(figsize=(16, 6))\n",
        "mask = np.triu(np.ones_like(df.corr(), dtype=np.bool))\n",
        "heatmap = sns.heatmap(df.corr(), mask=mask, vmin=-1, vmax=1, annot=True, cmap='BrBG')\n",
        "heatmap.set_title('Correlation Heatmap', fontdict={'fontsize':18}, pad=16);"
      ],
      "execution_count": 6,
      "outputs": [
        {
          "output_type": "display_data",
          "data": {
            "image/png": "[encoded data removed]",
            "text/plain": [
              "<Figure size 1152x432 with 2 Axes>"
            ]
          },
          "metadata": {
            "needs_background": "light"
          }
        }
      ]
    },
    {
      "cell_type": "code",
      "metadata": {
        "colab": {
          "base_uri": "https://localhost:8080/",
          "height": 0
        },
        "id": "RJJO8kRz6R6z",
        "outputId": "dbbe05ac-9ed3-4a23-b6e4-e4769087bd90"
      },
      "source": [
        "# Correlation of features with target ArrDelay (sorted)\n",
        "plt.figure(figsize=(8, 12))\n",
        "heatmap = sns.heatmap(df.corr()[['ArrDelay']].sort_values(by='ArrDelay', ascending=False), vmin=-1, vmax=1, annot=True, cmap='BrBG')\n",
        "heatmap.set_title('Features Correlating with ArrDelay', fontdict={'fontsize':18}, pad=16);"
      ],
      "execution_count": 7,
      "outputs": [
        {
          "output_type": "display_data",
          "data": {
            "image/png": "[encoded data removed]",
            "text/plain": [
              "<Figure size 576x864 with 2 Axes>"
            ]
          },
          "metadata": {
            "needs_background": "light"
          }
        }
      ]
    },
    {
      "cell_type": "markdown",
      "metadata": {
        "id": "e2J5Fv7P1Hg3"
      },
      "source": [
        "Veiem que sempre que el vol ha estat cancel·lat (Cancelled==True) o Desviat (Diverted==True) la variable target ArrDelay no està definida (ArrDelay=NaN), com és lògic ja que en aquests casos el vol no arriba a destinació. Per tant podem eliminar les files que tenen Cancelled==True i Diverted==True, i les columnes Cancelled (i CancellationCode) i Diverted"
      ]
    },
    {
      "cell_type": "code",
      "metadata": {
        "colab": {
          "base_uri": "https://localhost:8080/"
        },
        "id": "nLE0gZSg7tHr",
        "outputId": "20557742-0c4d-4faa-d090-8361b261d4e0"
      },
      "source": [
        "# We check that whenever a glight is cancelled or diverted, ArrDelay is not defined (NaN)\n",
        "\n",
        "print(f'Number of entries with Cancelled==True and non-NaN ArrDelay: {df[df.Cancelled & ~df.ArrDelay.isna()].shape[0]}')\n",
        "print(f'Number of entries with Diverted==True and non-NaN ArrDelay: {df[df.Diverted & ~df.ArrDelay.isna()].shape[0]}')\n",
        "\n",
        "# Therefore we can remove:\n",
        "# - samples (rows) where Cancelled=True or Diverted=True\n",
        "# - features (columns) Cancelled, CancellationCode and Diverted\n",
        "\n",
        "df.drop(df[df.Cancelled  | df.Diverted].index, inplace=True)\n",
        "df.drop(columns=['Cancelled', 'CancellationCode', 'Diverted'], inplace=True)"
      ],
      "execution_count": 8,
      "outputs": [
        {
          "output_type": "stream",
          "name": "stdout",
          "text": [
            "Number of entries with Cancelled==True and non-NaN ArrDelay: 0\n",
            "Number of entries with Diverted==True and non-NaN ArrDelay: 0\n"
          ]
        }
      ]
    },
    {
      "cell_type": "markdown",
      "metadata": {
        "id": "nrP7yAkNJSsN"
      },
      "source": [
        "Veiem que ArrDelay està fortament correlacionat amb DepDelay (un vol que surt d'origen amb retard és molt probable que arribi a destinació amb retard també). També està bastant correlacionat amb les altres variables de retard (CarrierDelay, LateAircraftDelay, etc) com és lògic. De fet ArrDelay és simplement la suma de tots aquests retards:\n",
        "\n",
        "$ArrDelay = CarrierDelay + WeatherDelay + NASDelay + SecurityDelay + LateAircraftDelay$"
      ]
    },
    {
      "cell_type": "code",
      "metadata": {
        "colab": {
          "base_uri": "https://localhost:8080/"
        },
        "id": "fhAB-3rmIoID",
        "outputId": "ae41e45f-b2fd-42ba-9bf9-fad7cae81636"
      },
      "source": [
        "# Checking that ArrDelay - (CarrierDelay + WeatherDelay + NASDelay + SecurityDelay + LateAircraftDelay)\n",
        "# is always 0 (or NaN when not defined)\n",
        "foo = df.CarrierDelay + df.WeatherDelay + df.NASDelay + df.SecurityDelay + df.LateAircraftDelay - df.ArrDelay\n",
        "foo.value_counts(dropna=False)"
      ],
      "execution_count": 9,
      "outputs": [
        {
          "output_type": "execute_result",
          "data": {
            "text/plain": [
              "0.0    1247488\n",
              "NaN     680883\n",
              "dtype: int64"
            ]
          },
          "metadata": {},
          "execution_count": 9
        }
      ]
    },
    {
      "cell_type": "markdown",
      "metadata": {
        "id": "QqVZggvW--eI"
      },
      "source": [
        "D'altra banda, en una situació real, lo interessant seria poder predir quin serà el retard d'arribada **ABANS** que el vol arribi a destinació. Per tant abans de coneixer els valors de CarrierDelay, WeatherDelay, ArrTime, etc. Per això proposem  crear un model només a partir de les variables que es coneixen en el moment en que l'avió s'enlaira i abans que aterri:\n",
        "Month, DayOfMonth, DayOfWeek, DepTime, DepDelay, CRSDepTime, CRSArrTime, UniqueCarrier, TailNum, CRSElapsedTime, Origin, Dest, Distance, TaxiOut.\n",
        "\n",
        "D'altra banda, donada la relació:  \n",
        "\n",
        "$DepDelay = DepTime - CRSDepTime$\n",
        "\n",
        "podem eliminar una de les dues variables. Eliminem CRSDepTime.\n"
      ]
    },
    {
      "cell_type": "code",
      "metadata": {
        "id": "LyAf2cwiLeEK"
      },
      "source": [
        "features = ['Month', 'DayOfMonth', 'DayOfWeek', 'DepTime', 'DepDelay', 'CRSArrTime', 'UniqueCarrier', 'TailNum', 'CRSElapsedTime', 'Origin', 'Dest', 'Distance', 'TaxiOut']\n",
        "target = ['ArrDelay']\n",
        "\n",
        "df = df[features+target]"
      ],
      "execution_count": 10,
      "outputs": []
    },
    {
      "cell_type": "markdown",
      "metadata": {
        "id": "8OMMwTbE4QuB"
      },
      "source": [
        "Revisem si hi ha missing values:"
      ]
    },
    {
      "cell_type": "code",
      "metadata": {
        "colab": {
          "base_uri": "https://localhost:8080/"
        },
        "id": "iYeyohBsAvlN",
        "outputId": "521dc0bf-e2c2-4c77-e748-db0f53307168"
      },
      "source": [
        "# Checking missing values\n",
        "df.isna().sum()"
      ],
      "execution_count": 11,
      "outputs": [
        {
          "output_type": "execute_result",
          "data": {
            "text/plain": [
              "Month             0\n",
              "DayOfMonth        0\n",
              "DayOfWeek         0\n",
              "DepTime           0\n",
              "DepDelay          0\n",
              "CRSArrTime        0\n",
              "UniqueCarrier     0\n",
              "TailNum           3\n",
              "CRSElapsedTime    0\n",
              "Origin            0\n",
              "Dest              0\n",
              "Distance          0\n",
              "TaxiOut           0\n",
              "ArrDelay          0\n",
              "dtype: int64"
            ]
          },
          "metadata": {},
          "execution_count": 11
        }
      ]
    },
    {
      "cell_type": "markdown",
      "metadata": {
        "id": "XugysG8S4jSi"
      },
      "source": [
        "Veiem que només hi ha 3 NaN a la columna TailNum. Eliminem aquestes 3 files."
      ]
    },
    {
      "cell_type": "code",
      "metadata": {
        "id": "TDp-KZd4QAws"
      },
      "source": [
        "# Removing 3 rows that have TailNum = NaN\n",
        "df.drop(df[df.TailNum.isna()].index, inplace=True)"
      ],
      "execution_count": 12,
      "outputs": []
    },
    {
      "cell_type": "markdown",
      "metadata": {
        "id": "CCLs-Zx54vkk"
      },
      "source": [
        "El data set queda així:"
      ]
    },
    {
      "cell_type": "code",
      "metadata": {
        "colab": {
          "base_uri": "https://localhost:8080/",
          "height": 0
        },
        "id": "JQlMVk1a4zT1",
        "outputId": "db6b3071-773a-4735-92e0-11fff1c08f91"
      },
      "source": [
        "display(df.head())\n",
        "print(f'Number of columns: {df.shape[1]}')\n",
        "print(f'Number of rows: {df.shape[0]}')\n",
        "print(f'Features: {features}')\n",
        "print(f'Target: {target}')"
      ],
      "execution_count": 13,
      "outputs": [
        {
          "output_type": "display_data",
          "data": {
            "text/html": [
              "<div>\n",
              "<style scoped>\n",
              "    .dataframe tbody tr th:only-of-type {\n",
              "        vertical-align: middle;\n",
              "    }\n",
              "\n",
              "    .dataframe tbody tr th {\n",
              "        vertical-align: top;\n",
              "    }\n",
              "\n",
              "    .dataframe thead th {\n",
              "        text-align: right;\n",
              "    }\n",
              "</style>\n",
              "<table border=\"1\" class=\"dataframe\">\n",
              "  <thead>\n",
              "    <tr style=\"text-align: right;\">\n",
              "      <th></th>\n",
              "      <th>Month</th>\n",
              "      <th>DayOfMonth</th>\n",
              "      <th>DayOfWeek</th>\n",
              "      <th>DepTime</th>\n",
              "      <th>DepDelay</th>\n",
              "      <th>CRSArrTime</th>\n",
              "      <th>UniqueCarrier</th>\n",
              "      <th>TailNum</th>\n",
              "      <th>CRSElapsedTime</th>\n",
              "      <th>Origin</th>\n",
              "      <th>Dest</th>\n",
              "      <th>Distance</th>\n",
              "      <th>TaxiOut</th>\n",
              "      <th>ArrDelay</th>\n",
              "    </tr>\n",
              "  </thead>\n",
              "  <tbody>\n",
              "    <tr>\n",
              "      <th>0</th>\n",
              "      <td>1</td>\n",
              "      <td>3</td>\n",
              "      <td>4</td>\n",
              "      <td>2003.0</td>\n",
              "      <td>8.0</td>\n",
              "      <td>2225</td>\n",
              "      <td>WN</td>\n",
              "      <td>N712SW</td>\n",
              "      <td>150.0</td>\n",
              "      <td>IAD</td>\n",
              "      <td>TPA</td>\n",
              "      <td>810</td>\n",
              "      <td>8.0</td>\n",
              "      <td>-14.0</td>\n",
              "    </tr>\n",
              "    <tr>\n",
              "      <th>1</th>\n",
              "      <td>1</td>\n",
              "      <td>3</td>\n",
              "      <td>4</td>\n",
              "      <td>754.0</td>\n",
              "      <td>19.0</td>\n",
              "      <td>1000</td>\n",
              "      <td>WN</td>\n",
              "      <td>N772SW</td>\n",
              "      <td>145.0</td>\n",
              "      <td>IAD</td>\n",
              "      <td>TPA</td>\n",
              "      <td>810</td>\n",
              "      <td>10.0</td>\n",
              "      <td>2.0</td>\n",
              "    </tr>\n",
              "    <tr>\n",
              "      <th>2</th>\n",
              "      <td>1</td>\n",
              "      <td>3</td>\n",
              "      <td>4</td>\n",
              "      <td>628.0</td>\n",
              "      <td>8.0</td>\n",
              "      <td>750</td>\n",
              "      <td>WN</td>\n",
              "      <td>N428WN</td>\n",
              "      <td>90.0</td>\n",
              "      <td>IND</td>\n",
              "      <td>BWI</td>\n",
              "      <td>515</td>\n",
              "      <td>17.0</td>\n",
              "      <td>14.0</td>\n",
              "    </tr>\n",
              "    <tr>\n",
              "      <th>4</th>\n",
              "      <td>1</td>\n",
              "      <td>3</td>\n",
              "      <td>4</td>\n",
              "      <td>1829.0</td>\n",
              "      <td>34.0</td>\n",
              "      <td>1925</td>\n",
              "      <td>WN</td>\n",
              "      <td>N464WN</td>\n",
              "      <td>90.0</td>\n",
              "      <td>IND</td>\n",
              "      <td>BWI</td>\n",
              "      <td>515</td>\n",
              "      <td>10.0</td>\n",
              "      <td>34.0</td>\n",
              "    </tr>\n",
              "    <tr>\n",
              "      <th>5</th>\n",
              "      <td>1</td>\n",
              "      <td>3</td>\n",
              "      <td>4</td>\n",
              "      <td>1940.0</td>\n",
              "      <td>25.0</td>\n",
              "      <td>2110</td>\n",
              "      <td>WN</td>\n",
              "      <td>N726SW</td>\n",
              "      <td>115.0</td>\n",
              "      <td>IND</td>\n",
              "      <td>JAX</td>\n",
              "      <td>688</td>\n",
              "      <td>10.0</td>\n",
              "      <td>11.0</td>\n",
              "    </tr>\n",
              "  </tbody>\n",
              "</table>\n",
              "</div>"
            ],
            "text/plain": [
              "  Month DayOfMonth DayOfWeek  DepTime  DepDelay  CRSArrTime UniqueCarrier  \\\n",
              "0     1          3         4   2003.0       8.0        2225            WN   \n",
              "1     1          3         4    754.0      19.0        1000            WN   \n",
              "2     1          3         4    628.0       8.0         750            WN   \n",
              "4     1          3         4   1829.0      34.0        1925            WN   \n",
              "5     1          3         4   1940.0      25.0        2110            WN   \n",
              "\n",
              "  TailNum  CRSElapsedTime Origin Dest  Distance  TaxiOut  ArrDelay  \n",
              "0  N712SW           150.0    IAD  TPA       810      8.0     -14.0  \n",
              "1  N772SW           145.0    IAD  TPA       810     10.0       2.0  \n",
              "2  N428WN            90.0    IND  BWI       515     17.0      14.0  \n",
              "4  N464WN            90.0    IND  BWI       515     10.0      34.0  \n",
              "5  N726SW           115.0    IND  JAX       688     10.0      11.0  "
            ]
          },
          "metadata": {}
        },
        {
          "output_type": "stream",
          "name": "stdout",
          "text": [
            "Number of columns: 14\n",
            "Number of rows: 1928368\n",
            "Features: ['Month', 'DayOfMonth', 'DayOfWeek', 'DepTime', 'DepDelay', 'CRSArrTime', 'UniqueCarrier', 'TailNum', 'CRSElapsedTime', 'Origin', 'Dest', 'Distance', 'TaxiOut']\n",
            "Target: ['ArrDelay']\n"
          ]
        }
      ]
    },
    {
      "cell_type": "markdown",
      "metadata": {
        "id": "cN1JUgeaQP4u"
      },
      "source": [
        "### Models de regressió"
      ]
    },
    {
      "cell_type": "code",
      "metadata": {
        "colab": {
          "base_uri": "https://localhost:8080/"
        },
        "id": "GCHfgdNzFB19",
        "outputId": "cc60cfc4-48a2-4223-be2d-d63b7b4d59d3"
      },
      "source": [
        "# We split the features in 2 groups, depending on the preprocessing to be performed\n",
        "# At this moment we consider Month, Day, DayOfWeek as numerical features (not categorical)\n",
        "\n",
        "# Categorical features\n",
        "cat_columns = ['TailNum', 'UniqueCarrier', 'Dest', 'Origin']\n",
        "\n",
        "# Numerical features (all the rest)\n",
        "num_columns = ['Month', 'DayOfMonth', 'DayOfWeek', 'DepTime', 'DepDelay',\n",
        "               'CRSArrTime', 'CRSElapsedTime', 'Distance', 'TaxiOut']\n",
        "\n",
        "print(f\"Categorical columns are: {cat_columns}\")\n",
        "print(f\"Numerical columns are: {num_columns}\")"
      ],
      "execution_count": 14,
      "outputs": [
        {
          "output_type": "stream",
          "name": "stdout",
          "text": [
            "Categorical columns are: ['TailNum', 'UniqueCarrier', 'Dest', 'Origin']\n",
            "Numerical columns are: ['Month', 'DayOfMonth', 'DayOfWeek', 'DepTime', 'DepDelay', 'CRSArrTime', 'CRSElapsedTime', 'Distance', 'TaxiOut']\n"
          ]
        }
      ]
    },
    {
      "cell_type": "markdown",
      "metadata": {
        "id": "z-kLnUUV9L4T"
      },
      "source": [
        "Definim 2 preprocessats diferents segons el tipus de variable."
      ]
    },
    {
      "cell_type": "code",
      "metadata": {
        "id": "VJ7aMO3MQGJg"
      },
      "source": [
        "# Preprocessing/Transformations steps for the pipelines\n",
        "\n",
        "# Cache folder\n",
        "cachedir = mkdtemp()\n",
        "\n",
        "# Transformations for numerical features:\n",
        "#   - StandardScaler()\n",
        "num_pipe = Pipeline([('scaler', StandardScaler())],\n",
        "                    memory=cachedir)\n",
        "\n",
        "# Transformations for categorical features\n",
        "#   - One Hot Encoding\n",
        "cat_pipe = Pipeline([('ohe', OneHotEncoder(handle_unknown='ignore'))],\n",
        "                    memory=cachedir)\n",
        "\n",
        "# We combine both transformations\n",
        "preprocessor = ColumnTransformer(transformers=[\n",
        "                                               ('num_transf', num_pipe, num_columns),\n",
        "                                               ('cat_transf', cat_pipe, cat_columns)\n",
        "                                               ],\n",
        "                                 verbose=False)\n",
        "\n",
        "# For some models, the target needs to be a 1D array (not a 2D array).\n",
        "# So we create this transformation to convert to 1D and we will use it when needed\n",
        "reshape1D_transf = FunctionTransformer(np.ravel)"
      ],
      "execution_count": 15,
      "outputs": []
    },
    {
      "cell_type": "markdown",
      "metadata": {
        "id": "JfWHAW7z9TBq"
      },
      "source": [
        "Definim 7 models de regressió usant Pipelines i incloent l'etapa de preprocessament. En la majoria de casos deixem els valors de hiperparametres definits per defecte. Però en d'altres hem tingut d'usar algun altre valor (e.g. max_depth en el DecisionTree) perquè amb els valors per defecte trigava molt a convergir."
      ]
    },
    {
      "cell_type": "code",
      "metadata": {
        "id": "ZjkDOzjzVEk8"
      },
      "source": [
        "# Linear Regression\n",
        "lr_pipeline = Pipeline([\n",
        "                        ('preprocess', preprocessor), \n",
        "                        ('linear_regression', LinearRegression())\n",
        "                       ])\n",
        "\n",
        "\n",
        "# Decision Tree\n",
        "dt_pipeline = Pipeline([\n",
        "                        ('preprocess', preprocessor), \n",
        "                        ('decision_tree', DecisionTreeRegressor(max_depth = 10, random_state=RS))\n",
        "                       ])\n",
        "\n",
        "# Random Forest\n",
        "rf_pipeline = Pipeline([\n",
        "                        ('preprocess', preprocessor),\n",
        "                        ('rforest', TransformedTargetRegressor(regressor=RandomForestRegressor(n_estimators=30,\n",
        "                                                                                               max_depth=50,\n",
        "                                                                                               max_features=200,\n",
        "                                                                                               n_jobs=-1,\n",
        "                                                                                               random_state=RS),\n",
        "                            transformer=reshape1D_transf, check_inverse=False))\n",
        "                       ])\n",
        "\n",
        "# Lasso Regression\n",
        "la_pipeline = Pipeline([\n",
        "                        ('preprocess', preprocessor), \n",
        "                        ('lasso_regression', Lasso(random_state=RS))\n",
        "                       ])\n",
        "\n",
        "# Ridge Regression\n",
        "ri_pipeline = Pipeline([\n",
        "                        ('preprocess', preprocessor), \n",
        "                        ('ridge_regression', Ridge(random_state=RS))\n",
        "                       ])\n",
        "\n",
        "# ElasticNet\n",
        "el_pipeline = Pipeline([\n",
        "                        ('preprocess', preprocessor), \n",
        "                        ('elasticnet', ElasticNet(random_state=RS))\n",
        "                       ])\n",
        "\n",
        "# List of models\n",
        "models = [lr_pipeline, dt_pipeline, rf_pipeline, la_pipeline, ri_pipeline, el_pipeline]"
      ],
      "execution_count": 16,
      "outputs": []
    },
    {
      "cell_type": "markdown",
      "metadata": {
        "id": "coWJALry2fGX"
      },
      "source": [
        "## Exercici 2\n",
        "Compara’ls en base al MSE i al R2."
      ]
    },
    {
      "cell_type": "markdown",
      "metadata": {
        "id": "sG52H18I6whz"
      },
      "source": [
        "Separem el dataset en dos: Training set i Test set (no fem servir Validation set perquè tampoc farem un ajust fi dels hiperparametres)."
      ]
    },
    {
      "cell_type": "code",
      "metadata": {
        "colab": {
          "base_uri": "https://localhost:8080/"
        },
        "id": "cBgpjj9EDSEV",
        "outputId": "f00c739e-f1b8-4ac4-e355-864b2b632146"
      },
      "source": [
        "df_X_train, df_X_test, df_y_train, df_y_test = train_test_split(df[features], df[target], test_size=0.3, random_state=RS, shuffle=True)\n",
        "\n",
        "total_size = df.shape[0]\n",
        "train_size = df_X_train.shape[0]\n",
        "test_size = df_X_test.shape[0]\n",
        "\n",
        "print(f'Total size of the dataset: {total_size} samples')\n",
        "print(f'Check of training set size: {train_size} samples ({100*train_size/total_size:.2f}%)')\n",
        "print(f'Check of test set size: {test_size} samples ({100*test_size/total_size:.2f}%)')"
      ],
      "execution_count": 17,
      "outputs": [
        {
          "output_type": "stream",
          "name": "stdout",
          "text": [
            "Total size of the dataset: 1928368 samples\n",
            "Check of training set size: 1349857 samples (70.00%)\n",
            "Check of test set size: 578511 samples (30.00%)\n"
          ]
        }
      ]
    },
    {
      "cell_type": "markdown",
      "metadata": {
        "id": "t7HEjfAbT7uR"
      },
      "source": [
        "Per no repetir codi (DRY) en els següents exercicis, creem 2 funcions:\n",
        "- **train_test_models** per entrenar tots els models usant el Training Set (mostrejat o no) i evaluar-lo sobre el Test Set (sencer). Mostra per pantalla les mètriques MSE i R2 per al training i test sets, amb la fi de poder comparar els valors i detectar si hi ha overfitting\n",
        "- **plot_predictions** per a poder veure visualment (gràficament) uns quants valors reals de ArrDelay i les prediccions corresponents per a cada model (previament entrenat). Important: usant *random_state=None* cada cop que executem la funció dibuixa N mostres aleatòries, altrament sempre dibuixarà les mateixes mostres."
      ]
    },
    {
      "cell_type": "code",
      "metadata": {
        "id": "JpxM6SBxh6hF"
      },
      "source": [
        "def train_test_models(models, df_X_train, df_y_train, df_X_test, df_y_test, train_size=None, verbose=False):\n",
        "  '''\n",
        "  Trains all the models (pipelines) in the list \"models\" using a training set\n",
        "  and evaluates them using a test set\n",
        "\n",
        "  Parameters:\n",
        "    - models: list of models (pipelines) to fit (train)\n",
        "    - df_X_train and df_y_train: DataFrames (training set) of features and target (ArrDelay)\n",
        "    - train_size: number of samples to use for training, picked using random sampling.\n",
        "      Use 'None' to use the full training set (i.e. without sampling)\n",
        "    - verbose: True to show the progress for debugging (i.e. which models is being processed at each moment)\n",
        "  \n",
        "  Returns:\n",
        "    - models: trained models\n",
        "    - train_indices: indices of the samples used for training (in case of not using the full training set)\n",
        "    - train_metrics: dictionary containing MSE and R2 metrics computed on the \n",
        "      (sampled) training set. Includes also the training time.\n",
        "    - test_metrics: dictionary containing MSE and R2 metrics computed on the full test set\n",
        "  \n",
        "  Prints:\n",
        "    - the returned data printed in tabular format\n",
        "  '''\n",
        "  \n",
        "  # Sampling of the training set ('None' for no-sampling i.e. full training set)\n",
        "  if train_size == None:\n",
        "    X = df_X_train\n",
        "    y = df_y_train\n",
        "    train_indices = X.index.to_list()\n",
        "  else:\n",
        "    X = df_X_train.sample(train_size, random_state=RS)\n",
        "    train_indices = X.index.to_list()\n",
        "    y = df_y_train.loc[train_indices,:]\n",
        "\n",
        "  # Initialization of variables\n",
        "  model_name, mse_train, r2_train, mse_test, r2_test, training_time = [], [], [], [], [], []\n",
        "\n",
        "  # We iterate over the list of models, showing a progress bar (TQDM)\n",
        "  for model in tqdm(models):  \n",
        "\n",
        "    if verbose: print(f\"Model: {model.steps[-1][0]}. Training\", end=\"...\")\n",
        "\n",
        "    # Get model name\n",
        "    model_name.append(model.steps[-1][0])\n",
        "\n",
        "    # Model training (fitting)\n",
        "    start = time.time()\n",
        "    model.fit(X, y)\n",
        "    stop = time.time()\n",
        "    training_time.append(stop-start)\n",
        "\n",
        "    # MSE and R2 metrics evaluated on the (sampled or full) training set\n",
        "    y_pred = model.predict(X)\n",
        "    mse_train.append(mean_squared_error(y, y_pred))\n",
        "    r2_train.append(r2_score(y, y_pred))\n",
        "    \n",
        "    if verbose: print(f\"Testing\", end=\"...\")\n",
        "    \n",
        "    # MSE and R2 metrics evaluated on the full test set\n",
        "    y_pred_test = model.predict(df_X_test)\n",
        "    mse_test.append(mean_squared_error(df_y_test, y_pred_test))\n",
        "    r2_test.append(r2_score(df_y_test, y_pred_test))\n",
        "  \n",
        "    if verbose: print(f\"Done!\")\n",
        "\n",
        "  # Comparison of training and test MSE and R2 metrics\n",
        "  mse_compare = [f'{100*(j-i)/j:.1f}%' for i,j in zip(mse_train, mse_test)]\n",
        "  r2_compare = [f'{100*(j-i)/j:.1f}%' for i,j in zip(r2_train, r2_test)]\n",
        "\n",
        "  # Print summary\n",
        "  print(f\"\\n---- Model TrainTesting (Summary) ----\")\n",
        "  print(f\"Number of samples (from the training set) used: {train_size:_}\")\n",
        "  print(\"\\n\" + tabulate({\"Model\":model_name,\n",
        "                  \"MSE (Train)\": mse_train,\n",
        "                  \"MSE (Test)\": mse_test,\n",
        "                  \"diff MSE\": mse_compare,\n",
        "                  \"R2 (Train)\": r2_train,\n",
        "                  \"R2 (Test)\": r2_test,\n",
        "                  \"diff R2\": r2_compare,                  \n",
        "                  \"Training Time [s]\": training_time\n",
        "                  },\n",
        "                  headers=\"keys\"))\n",
        "  \n",
        "  train_metrics = {i:{'model':j[0], 'mse':j[1], 'r2':j[2], 'time':j[3]}\n",
        "                   for i, j in enumerate(zip(model_name, mse_train, r2_train, training_time))}\n",
        "\n",
        "  test_metrics = {i:{'model':j[0], 'mse':j[1], 'r2':j[2]}\n",
        "                   for i, j in enumerate(zip(model_name, mse_test, r2_test))}\n",
        "\n",
        "  return models, train_indices, train_metrics, test_metrics\n"
      ],
      "execution_count": 18,
      "outputs": []
    },
    {
      "cell_type": "code",
      "metadata": {
        "id": "QExgcUf75CZk"
      },
      "source": [
        "def plot_predictions(trained_models, df_X, df_y, num_samples=None, random_state=None):\n",
        "  '''\n",
        "  Calculates the predictions of a dataset using previously trained models\n",
        "  and plots them together with the actual value of ArrDelay, for visual comparison.\n",
        "\n",
        "  Parameters:\n",
        "    - trained_models: list of models (pipelines) already trained\n",
        "    - df_X and df_y: DataFrames of features (X) and target ArrDelay (y)\n",
        "    - num_samples: Integer. Number of samples to predict and plot.\n",
        "      Use 'None' to use the full dataset (i.e. no sampling)\n",
        "    - random_state: Integer (to plot same samples at each runtime) \n",
        "      or None (to plot different samples at each runtime)\n",
        "  \n",
        "  Plots:\n",
        "    - the actual target values and the predicted values for each model\n",
        "  '''\n",
        "\n",
        "  # Random sampling of the dataset ('None' for no-sampling, i.e. full dataset)\n",
        "  if num_samples == None:\n",
        "    X = df_X\n",
        "    y = df_y\n",
        "  else:\n",
        "    X = df_X.sample(num_samples, random_state=random_state)\n",
        "    y = df_y.loc[X.index.to_list(),:]\n",
        "\n",
        "  # We create a DataFrame with the actual value of ArrDelay\n",
        "  df_plot = pd.DataFrame()\n",
        "  df_plot['Actual ArrDelay'] = y['ArrDelay']\n",
        "  \n",
        "  # We iterate over the list of models\n",
        "  # and add to the DataFrame a new column with the ArrDelay prediction for each model\n",
        "  for model in trained_models:\n",
        "    y_pred = model.predict(X)\n",
        "    df_plot[model.steps[-1][0] + ' prediction'] = y_pred\n",
        "\n",
        "  df_plot.plot(kind='bar',figsize=(25,9))\n",
        "  plt.title('Examples of ArrDelay actual value vs prediction')\n",
        "  plt.xlabel('Sample index')\n",
        "  plt.ylabel('ArrDelay')\n",
        "  plt.show()"
      ],
      "execution_count": 19,
      "outputs": []
    },
    {
      "cell_type": "code",
      "metadata": {
        "colab": {
          "base_uri": "https://localhost:8080/",
          "height": 253,
          "referenced_widgets": [
            "375d26cb8130451ba6ee473fa2d61a79",
            "ad1e51b4aa5e4807ab75c587b53d5ef0",
            "9191ffdbed35414185a09ebe51926455",
            "7d941002e5234af191c30f6db6da2a81",
            "3ec660dcd54a462bb70f2e6f8f6120fb",
            "0bb74a2ee5ef419381e22faf52076004",
            "6e4a3b4e08d849218edba9208ab4eee1",
            "5fa039e2a1fe4d6bbcc7f64d56b7052d",
            "2f65c9b03e454c47a1e4b0a1198dbe3c",
            "b635ff79da1b4920a2d22c094d651ce7",
            "dc1d9f27c0e64fef945e4686164c19c9"
          ]
        },
        "id": "fbVbzmz7hb7e",
        "outputId": "5af5037e-c70c-4ed7-9d45-c213375f68e1"
      },
      "source": [
        "models, indices_train, _, _ = train_test_models(models, \n",
        "                                                df_X_train, df_y_train, \n",
        "                                                df_X_test, df_y_test, \n",
        "                                                train_size=100_000, \n",
        "                                                verbose=False)"
      ],
      "execution_count": 20,
      "outputs": [
        {
          "output_type": "display_data",
          "data": {
            "application/vnd.jupyter.widget-view+json": {
              "model_id": "375d26cb8130451ba6ee473fa2d61a79",
              "version_minor": 0,
              "version_major": 2
            },
            "text/plain": [
              "  0%|          | 0/6 [00:00<?, ?it/s]"
            ]
          },
          "metadata": {}
        },
        {
          "output_type": "stream",
          "name": "stdout",
          "text": [
            "\n",
            "---- Model TrainTesting (Summary) ----\n",
            "Number of samples (from the training set) used: 100_000\n",
            "\n",
            "Model                MSE (Train)    MSE (Test)  diff MSE      R2 (Train)    R2 (Test)  diff R2      Training Time [s]\n",
            "-----------------  -------------  ------------  ----------  ------------  -----------  ---------  -------------------\n",
            "linear_regression        100.349       115.797  13.3%           0.970369     0.964127  -0.6%                  6.63915\n",
            "decision_tree            127.697       158.489  19.4%           0.962293     0.950901  -1.2%                  3.38878\n",
            "rforest                  252.667       595.618  57.6%           0.925392     0.815481  -13.5%                48.4548\n",
            "lasso_regression         144.904       147.06   1.5%            0.957212     0.954442  -0.3%                  5.08802\n",
            "ridge_regression         102.215       113.755  10.1%           0.969818     0.964759  -0.5%                  0.51251\n",
            "elasticnet               503.745       487.462  -3.3%           0.851253     0.848988  -0.3%                  6.86857\n"
          ]
        }
      ]
    },
    {
      "cell_type": "code",
      "metadata": {
        "colab": {
          "base_uri": "https://localhost:8080/",
          "height": 462
        },
        "id": "Pd7RdvWcF8FQ",
        "outputId": "c8094e78-b4c8-46ff-c3b9-b176b0c2643c"
      },
      "source": [
        "plot_predictions(models, df_X_test, df_y_test, num_samples=20, random_state=None)"
      ],
      "execution_count": 21,
      "outputs": [
        {
          "output_type": "display_data",
          "data": {
            "image/png": "[encoded data removed]",
            "text/plain": [
              "<Figure size 1800x648 with 1 Axes>"
            ]
          },
          "metadata": {
            "needs_background": "light"
          }
        }
      ]
    },
    {
      "cell_type": "markdown",
      "metadata": {
        "id": "Zj7oIZhvl6iX"
      },
      "source": [
        "Observacions:\n",
        "- Veiem que les mètriques en el train set i et test set són aproximadament iguals (una mica millors en el train set, com és normal) excepte en el cas del RandomForest on hi ha overfitting.\n",
        "- RandomForest presenta un rendiment per sota de la resta amb un temps de training molt més gran. Necesitaria un ajust dels hiperparámetres.\n",
        "- ElasticNet també presenta un rendiment més dolent que la resta. Necessitaria algun ajustament dels hiperparàmetres ja que seria esperable un rendiment com a minim semblant al de Lasso o Ridge."
      ]
    },
    {
      "cell_type": "markdown",
      "metadata": {
        "id": "abM9Mp_V2fDy"
      },
      "source": [
        "## Exercici 3\n",
        "Entrena’ls utilitzant els diferents paràmetres que admeten."
      ]
    },
    {
      "cell_type": "markdown",
      "metadata": {
        "id": "8WrhOXGRZTQW"
      },
      "source": [
        "Intentarem millorar el resultat modificant alguns dels paràmetres que permet cada model. Fem una còpia utilitzant \"clone\" per no sobreescriure els models que ja hem entrenat."
      ]
    },
    {
      "cell_type": "code",
      "metadata": {
        "id": "Cu5kChjAZeNS"
      },
      "source": [
        "# \"Clone\" does a deep copy of the model in an estimator without actually copying attached data. \n",
        "# It yields a new estimator with the SAME parameters that has NOT been fitted on any data.\n",
        "models2 = clone(models)\n",
        "\n",
        "# We try new values for the hyperparameters of each model\n",
        "# [lr_pipeline, dt_pipeline, rf_pipeline, nn_pipeline, la_pipeline, ri_pipeline, el_pipeline]\n",
        "\n",
        "# Linear Regression - models2[0]\n",
        "# No changes. We keep the same parameters.\n",
        "\n",
        "# Decision Tree - models2[1]\n",
        "models2[1].set_params(decision_tree__criterion=\"friedman_mse\",\n",
        "                       decision_tree__max_depth=10);\n",
        "\n",
        "# Random Forest - models2[2]\n",
        "models2[2].set_params(rforest__regressor__n_estimators=20,\n",
        "                      rforest__regressor__max_depth=10,\n",
        "                      rforest__regressor__max_features=4000);\n",
        "\n",
        "# Lasso Regression - models2[3]\n",
        "# No changes. We keep the same parameters.\n",
        "\n",
        "# Ridge Regression - models2[4]\n",
        "# No changes. We keep the same parameters.\n",
        "\n",
        "# ElasticNet Regression - models2[5]\n",
        "models2[5].set_params(elasticnet__l1_ratio=0.8);\n",
        "\n"
      ],
      "execution_count": 22,
      "outputs": []
    },
    {
      "cell_type": "code",
      "metadata": {
        "colab": {
          "base_uri": "https://localhost:8080/",
          "height": 253,
          "referenced_widgets": [
            "3ba6e993100640df8305dae81e9a3d04",
            "fe00bdd5811d4c9a97379ecd205da13c",
            "09a6fb8a08b9490e8182374c83fdf314",
            "e5af414c81344c0eb8941aa52ea5b433",
            "bb156de293ad4e6d818ff9c3a8928df8",
            "d8b402284b9a4854b1cf15c4704a4817",
            "b932e1e87dc046b88af84e58c2c72914",
            "01ea035a4ba74009bc45cb78c1358548",
            "85956d12410c4ccab630f19657cb6702",
            "e3d0353b6d5741ec9bb88402dd338721",
            "551497c4443d43fd9335530e7b204167"
          ]
        },
        "id": "GcL-UDXqfyTe",
        "outputId": "e9a18b20-74ad-44a6-97e4-6fe917dc6725"
      },
      "source": [
        "models2, indices_train2, _, _ = train_test_models(models2, \n",
        "                                                  df_X_train, df_y_train, \n",
        "                                                  df_X_test, df_y_test, \n",
        "                                                  train_size=100_000, verbose=False)"
      ],
      "execution_count": 23,
      "outputs": [
        {
          "output_type": "display_data",
          "data": {
            "application/vnd.jupyter.widget-view+json": {
              "model_id": "3ba6e993100640df8305dae81e9a3d04",
              "version_minor": 0,
              "version_major": 2
            },
            "text/plain": [
              "  0%|          | 0/6 [00:00<?, ?it/s]"
            ]
          },
          "metadata": {}
        },
        {
          "output_type": "stream",
          "name": "stdout",
          "text": [
            "\n",
            "---- Model TrainTesting (Summary) ----\n",
            "Number of samples (from the training set) used: 100_000\n",
            "\n",
            "Model                MSE (Train)    MSE (Test)  diff MSE      R2 (Train)    R2 (Test)  diff R2      Training Time [s]\n",
            "-----------------  -------------  ------------  ----------  ------------  -----------  ---------  -------------------\n",
            "linear_regression        100.349       115.797  13.3%           0.970369     0.964127  -0.6%                 6.62733\n",
            "decision_tree            127.697       158.489  19.4%           0.962293     0.950901  -1.2%                 3.38018\n",
            "rforest                  123.015       145.59   15.5%           0.963676     0.954897  -0.9%                21.8638\n",
            "lasso_regression         144.904       147.06   1.5%            0.957212     0.954442  -0.3%                 5.12601\n",
            "ridge_regression         102.215       113.755  10.1%           0.969818     0.964759  -0.5%                 0.536956\n",
            "elasticnet               244.002       241.025  -1.2%           0.927951     0.925332  -0.3%                 5.14772\n"
          ]
        }
      ]
    },
    {
      "cell_type": "markdown",
      "metadata": {
        "id": "DrereC1sZX-r"
      },
      "source": [
        "Veiem que amb els nous paràmetres que hem usat per als models de DecisionTree, RandomForest i ElasticSearch hem millorat les prediccions obtingudes. "
      ]
    },
    {
      "cell_type": "code",
      "metadata": {
        "colab": {
          "base_uri": "https://localhost:8080/",
          "height": 461
        },
        "id": "QrRK0IZ-ZLSk",
        "outputId": "e58c5c67-8c93-49c8-8159-17c9d1b1e11c"
      },
      "source": [
        "plot_predictions(models2, df_X_test, df_y_test, num_samples=20, random_state=None)"
      ],
      "execution_count": 24,
      "outputs": [
        {
          "output_type": "display_data",
          "data": {
            "image/png": "[encoded data removed]",
            "text/plain": [
              "<Figure size 1800x648 with 1 Axes>"
            ]
          },
          "metadata": {
            "needs_background": "light"
          }
        }
      ]
    },
    {
      "cell_type": "markdown",
      "metadata": {
        "id": "0ZYl3uzA2fA3"
      },
      "source": [
        "## Exercici 4\n",
        "Compara el seu rendiment utilitzant l’aproximació traint/test o utilitzant totes les dades (validació interna)"
      ]
    },
    {
      "cell_type": "markdown",
      "metadata": {
        "id": "KXDw5G1q2yS4"
      },
      "source": [
        "L'aproximació train/test és la que hem utilitzat en els exercicis anteriors.\n",
        "Aquí utilitzarem CrossValidation per entrenar i evaluar cada model."
      ]
    },
    {
      "cell_type": "code",
      "metadata": {
        "id": "xsK3OT2ivDxn"
      },
      "source": [
        "def crossvalidate_models(models, df_X_train, df_y_train, sample_size=None, cv=3, verbose=False):\n",
        "  '''\n",
        "  Trains and evaluates all the models (pipelines) in the list \"models\" using cross-validation\n",
        "\n",
        "  Parameters:\n",
        "    - models: list of models (pipelines) to fit (train)\n",
        "    - df_X_train and df_y_train: DataFrames (training set) of features and target (ArrDelay)\n",
        "    - sample_size: number of samples to use for training, using random sampling.\n",
        "      Use 'None' to use the full training set (i.e. no sampling)\n",
        "    - cv\n",
        "    - verbose: True to show the progress for debugging (i.e. which models is being processed at each moment)\n",
        "  \n",
        "  Returns:\n",
        "    - models: trained models\n",
        "    - train_indices: indices of the samples used for training (in case of not using the full training set)\n",
        "    - *train_metrics: dictionary containing average MSE and R2 metrics computed on the \n",
        "      (sampled) training set using crossvalidation. Includes also the training time.\n",
        "    - *test_metrics: dictionary containing MSE and R2 metrics computed on the full test set\n",
        "  \n",
        "  Prints:\n",
        "    - the returned data printed in tabular format\n",
        "  '''\n",
        "  \n",
        "  # Random sampling of the training set (-1 for no-sampling)\n",
        "  if sample_size == None:\n",
        "    X = df_X_train\n",
        "    y = df_y_train\n",
        "    train_indices = X.index.to_list()\n",
        "  else:\n",
        "    X = df_X_train.sample(sample_size, random_state=RS)\n",
        "    train_indices = X.index.to_list()\n",
        "    y = df_y_train.loc[train_indices,:]\n",
        "\n",
        "\n",
        "  # Initialization\n",
        "  model_name, mse_train, r2_train, mse_test, r2_test, training_time = [], [], [], [], [], []\n",
        "\n",
        "  for model in tqdm(models):  \n",
        "\n",
        "    if verbose: print(f\"Model: {model.steps[-1][0]}. Training\", end=\"...\")\n",
        "\n",
        "    # Get model name\n",
        "    model_name.append(model.steps[-1][0])\n",
        "\n",
        "    # Model training and scoring (cross-validation)\n",
        "    scores = cross_validate(model, X, y, cv=cv, scoring=['r2','neg_mean_squared_error'], return_train_score=True)\n",
        "\n",
        "    training_time.append(scores['fit_time'].mean())\n",
        "\n",
        "    # Average MSE and R2 metrics for the training folds and the test/validation folds\n",
        "    mse_train.append(-scores['train_neg_mean_squared_error'].mean())\n",
        "    r2_train.append(scores['train_r2'].mean())\n",
        "\n",
        "    mse_test.append(-scores['test_neg_mean_squared_error'].mean())\n",
        "    r2_test.append(scores['test_r2'].mean())\n",
        "    \n",
        "    if verbose: print(f\"Done!\")\n",
        "\n",
        "  mse_compare = [f'{100*(j-i)/j:.1f}%' for i,j in zip(mse_train, mse_test)]\n",
        "  r2_compare = [f'{100*(j-i)/j:.1f}%' for i,j in zip(r2_train, r2_test)]\n",
        "\n",
        "  # Print summary\n",
        "  print(f\"\\n---- Model CrossValidation (Summary) ----\")\n",
        "  print(f\"Total size: {sample_size:_} samples\")\n",
        "  print(f\"Number of folds k={cv}\")\n",
        "  print(\"\\n\" + tabulate({\"Model\":model_name,\n",
        "                  \"avg MSE (Train sets)\": mse_train,\n",
        "                  \"avg MSE (Test sets)\": mse_test,\n",
        "                  \"diff MSE\": mse_compare,\n",
        "                  \"avg R2 (Train sets)\": r2_train,\n",
        "                  \"avg R2(Test sets)\": r2_test,\n",
        "                  \"diff R2\": r2_compare,                  \n",
        "                  \"Training Time [s]\": training_time\n",
        "                  },\n",
        "                  headers=\"keys\"))\n",
        "  \n",
        "  train_metrics = {i:{'model':j[0], 'mse':j[1], 'r2':j[2], 'time':j[3]}\n",
        "                   for i, j in enumerate(zip(model_name, mse_train, r2_train, training_time))}\n",
        "\n",
        "  test_metrics = {i:{'model':j[0], 'mse':j[1], 'r2':j[2]}\n",
        "                   for i, j in enumerate(zip(model_name, mse_test, r2_test))}\n",
        "\n",
        "  return models, train_indices, train_metrics, test_metrics"
      ],
      "execution_count": 25,
      "outputs": []
    },
    {
      "cell_type": "markdown",
      "metadata": {
        "id": "AjMIaHpmlDLN"
      },
      "source": [
        "Fem una còpia dels models per no sobreescriure'ls quan fem el cross-validation."
      ]
    },
    {
      "cell_type": "code",
      "metadata": {
        "id": "SRm8wTinfDz7"
      },
      "source": [
        "# \"Clone\" does a deep copy of the model in an estimator without actually copying attached data. \n",
        "# It yields a new estimator with the SAME parameters that has NOT been fitted on any data.\n",
        "models3 = clone(models2)"
      ],
      "execution_count": 26,
      "outputs": []
    },
    {
      "cell_type": "code",
      "metadata": {
        "colab": {
          "base_uri": "https://localhost:8080/",
          "height": 392,
          "referenced_widgets": [
            "da6afc5e71bc470b922b2b1313a3813e",
            "f879c52e19824c8cb0c8184db89ea23c",
            "3496f0e49da84c7796ee7205bb4e4c29",
            "47352ff8b2214dcb99953b53ecb5423d",
            "536c60df657a4ae8921ecfc2243d51f3",
            "4722306b4f3649ed8a1cf0d3f8c2e162",
            "dc1a6f7d5e3f495f874c6c8606882a47",
            "d6e767f9863b4511a2605444c67d24a9",
            "34e4673b16fb41dda51a5be214b16dd3",
            "e17d314dfdd149c8926f28eb42f2e9db",
            "f9b6b9e4209347538649d240c13c6067"
          ]
        },
        "id": "E7l58Evr66NA",
        "outputId": "114a1634-4ffd-49bd-edc7-1385e7390b1b"
      },
      "source": [
        "models3, train_indices3, _, _ = crossvalidate_models(models3, df_X_train, df_y_train, sample_size=100_000, cv=5, verbose=True)\n"
      ],
      "execution_count": 27,
      "outputs": [
        {
          "output_type": "display_data",
          "data": {
            "application/vnd.jupyter.widget-view+json": {
              "model_id": "da6afc5e71bc470b922b2b1313a3813e",
              "version_minor": 0,
              "version_major": 2
            },
            "text/plain": [
              "  0%|          | 0/6 [00:00<?, ?it/s]"
            ]
          },
          "metadata": {}
        },
        {
          "output_type": "stream",
          "name": "stdout",
          "text": [
            "Model: linear_regression. Training...Done!\n",
            "Model: decision_tree. Training...Done!\n",
            "Model: rforest. Training...Done!\n",
            "Model: lasso_regression. Training...Done!\n",
            "Model: ridge_regression. Training...Done!\n",
            "Model: elasticnet. Training...Done!\n",
            "\n",
            "---- Model CrossValidation (Summary) ----\n",
            "Total size: 100_000 samples\n",
            "Number of folds k=5\n",
            "\n",
            "Model                avg MSE (Train sets)    avg MSE (Test sets)  diff MSE      avg R2 (Train sets)    avg R2(Test sets)  diff R2      Training Time [s]\n",
            "-----------------  ----------------------  ---------------------  ----------  ---------------------  -------------------  ---------  -------------------\n",
            "linear_regression                 98.7131                116.482  15.3%                    0.97085              0.965582  -0.5%                 5.24493\n",
            "decision_tree                    125.48                  156.712  19.9%                    0.962946             0.953715  -1.0%                 2.63595\n",
            "rforest                          122.203                 145.408  16.0%                    0.963915             0.95705   -0.7%                17.2561\n",
            "lasso_regression                 144.901                 144.933  0.0%                     0.957211             0.957176  -0.0%                 4.05024\n",
            "ridge_regression                 101.089                 112.924  10.5%                    0.970149             0.966632  -0.4%                 0.417771\n",
            "elasticnet                       243.999                 244.02   0.0%                     0.92795              0.927919  -0.0%                 4.05905\n"
          ]
        }
      ]
    },
    {
      "cell_type": "markdown",
      "metadata": {
        "id": "vuquv1U54AiQ"
      },
      "source": [
        "Obtenim mètriques similars a les que hem tingut fent train/test, però ha trigat considerablement ja que cada model s'ha hagut d'entrenar 5 cops (k=5 folds). En aquest cas disposem de tantes dades (de fet estem utilitzant molt menys de les que disposem per temes de recursos) que és més convenient fer un train/test que un cross-validation, que sol ser més útil quan disposem de poques dades."
      ]
    },
    {
      "cell_type": "markdown",
      "metadata": {
        "id": "LMq_e4CU2e90"
      },
      "source": [
        "## Exercici 5\n",
        "Realitza algun procés d’enginyeria de variables per millorar-ne la predicció"
      ]
    },
    {
      "cell_type": "markdown",
      "metadata": {
        "id": "sa2LsOCH3hJk"
      },
      "source": [
        "Per intentar millorar la predicció, utilitzarem una forma diferent per codificar les variables periòdiques (month, day, time)."
      ]
    },
    {
      "cell_type": "code",
      "metadata": {
        "id": "uxukSUbOdjq-"
      },
      "source": [
        "def time_to_minutes(t):\n",
        "  '''\n",
        "  Converts float time values to minutes\n",
        "   e.g. 1829 float == 18:29 time ==  1109 minutes\n",
        "  '''\n",
        "  t = float(t)\n",
        "  return 60*(t//100)+(t%100)\n",
        "\n",
        "\n",
        "def to_cyclic(x, cycle):\n",
        "  '''\n",
        "  Cyclic encoding of periodic variable x considering its cycle duration\n",
        "  '''\n",
        "\n",
        "  sin_x = np.sin(2*np.pi*x/cycle)\n",
        "  cos_x = np.cos(2*np.pi*x/cycle)\n",
        "\n",
        "  return sin_x, cos_x"
      ],
      "execution_count": 28,
      "outputs": []
    },
    {
      "cell_type": "code",
      "metadata": {
        "id": "6c9uRGGvmpJi"
      },
      "source": [
        "# Note:\n",
        "# 1. Categorical columns need first to be converted back to numeric using pd.to_numeric()\n",
        "# 2. Time values need first to be converted to minutes using time_to_minutes()\n",
        "# 3. max_cycle values used:\n",
        "#     12 months in 1 year\n",
        "#     31 days in 1 month\n",
        "#     7 days in 1 week\n",
        "#     24*60 minutes minutes in 1 day\n",
        "\n",
        "df4 = df.copy()\n",
        "\n",
        "df4['sin_Month'], df4['cos_Month'] = to_cyclic(pd.to_numeric(df4.Month), 12)\n",
        "df4['sin_DayOfMonth'], df4['cos_DayOfMonth'] = to_cyclic(pd.to_numeric(df4.DayOfMonth), 31)\n",
        "df4['sin_DayOfWeek'], df4['cos_DayOfWeek'] = to_cyclic(pd.to_numeric(df4.DayOfWeek), 7)\n",
        "df4['sin_DepTime'], df4['cos_DepTime'] = to_cyclic(df4.DepTime.map(time_to_minutes), 24*60)\n",
        "df4['sin_CRSArrTime'], df4['cos_CRSArrTime'] = to_cyclic(df4.CRSArrTime.map(time_to_minutes), 24*60)\n"
      ],
      "execution_count": 29,
      "outputs": []
    },
    {
      "cell_type": "code",
      "metadata": {
        "colab": {
          "base_uri": "https://localhost:8080/",
          "height": 224
        },
        "id": "IA2eR3PAnKpz",
        "outputId": "cc69bd49-8e8a-4d79-8c5c-95be587f9a76"
      },
      "source": [
        "df.head()"
      ],
      "execution_count": 30,
      "outputs": [
        {
          "output_type": "execute_result",
          "data": {
            "text/html": [
              "<div>\n",
              "<style scoped>\n",
              "    .dataframe tbody tr th:only-of-type {\n",
              "        vertical-align: middle;\n",
              "    }\n",
              "\n",
              "    .dataframe tbody tr th {\n",
              "        vertical-align: top;\n",
              "    }\n",
              "\n",
              "    .dataframe thead th {\n",
              "        text-align: right;\n",
              "    }\n",
              "</style>\n",
              "<table border=\"1\" class=\"dataframe\">\n",
              "  <thead>\n",
              "    <tr style=\"text-align: right;\">\n",
              "      <th></th>\n",
              "      <th>Month</th>\n",
              "      <th>DayOfMonth</th>\n",
              "      <th>DayOfWeek</th>\n",
              "      <th>DepTime</th>\n",
              "      <th>DepDelay</th>\n",
              "      <th>CRSArrTime</th>\n",
              "      <th>UniqueCarrier</th>\n",
              "      <th>TailNum</th>\n",
              "      <th>CRSElapsedTime</th>\n",
              "      <th>Origin</th>\n",
              "      <th>Dest</th>\n",
              "      <th>Distance</th>\n",
              "      <th>TaxiOut</th>\n",
              "      <th>ArrDelay</th>\n",
              "    </tr>\n",
              "  </thead>\n",
              "  <tbody>\n",
              "    <tr>\n",
              "      <th>0</th>\n",
              "      <td>1</td>\n",
              "      <td>3</td>\n",
              "      <td>4</td>\n",
              "      <td>2003.0</td>\n",
              "      <td>8.0</td>\n",
              "      <td>2225</td>\n",
              "      <td>WN</td>\n",
              "      <td>N712SW</td>\n",
              "      <td>150.0</td>\n",
              "      <td>IAD</td>\n",
              "      <td>TPA</td>\n",
              "      <td>810</td>\n",
              "      <td>8.0</td>\n",
              "      <td>-14.0</td>\n",
              "    </tr>\n",
              "    <tr>\n",
              "      <th>1</th>\n",
              "      <td>1</td>\n",
              "      <td>3</td>\n",
              "      <td>4</td>\n",
              "      <td>754.0</td>\n",
              "      <td>19.0</td>\n",
              "      <td>1000</td>\n",
              "      <td>WN</td>\n",
              "      <td>N772SW</td>\n",
              "      <td>145.0</td>\n",
              "      <td>IAD</td>\n",
              "      <td>TPA</td>\n",
              "      <td>810</td>\n",
              "      <td>10.0</td>\n",
              "      <td>2.0</td>\n",
              "    </tr>\n",
              "    <tr>\n",
              "      <th>2</th>\n",
              "      <td>1</td>\n",
              "      <td>3</td>\n",
              "      <td>4</td>\n",
              "      <td>628.0</td>\n",
              "      <td>8.0</td>\n",
              "      <td>750</td>\n",
              "      <td>WN</td>\n",
              "      <td>N428WN</td>\n",
              "      <td>90.0</td>\n",
              "      <td>IND</td>\n",
              "      <td>BWI</td>\n",
              "      <td>515</td>\n",
              "      <td>17.0</td>\n",
              "      <td>14.0</td>\n",
              "    </tr>\n",
              "    <tr>\n",
              "      <th>4</th>\n",
              "      <td>1</td>\n",
              "      <td>3</td>\n",
              "      <td>4</td>\n",
              "      <td>1829.0</td>\n",
              "      <td>34.0</td>\n",
              "      <td>1925</td>\n",
              "      <td>WN</td>\n",
              "      <td>N464WN</td>\n",
              "      <td>90.0</td>\n",
              "      <td>IND</td>\n",
              "      <td>BWI</td>\n",
              "      <td>515</td>\n",
              "      <td>10.0</td>\n",
              "      <td>34.0</td>\n",
              "    </tr>\n",
              "    <tr>\n",
              "      <th>5</th>\n",
              "      <td>1</td>\n",
              "      <td>3</td>\n",
              "      <td>4</td>\n",
              "      <td>1940.0</td>\n",
              "      <td>25.0</td>\n",
              "      <td>2110</td>\n",
              "      <td>WN</td>\n",
              "      <td>N726SW</td>\n",
              "      <td>115.0</td>\n",
              "      <td>IND</td>\n",
              "      <td>JAX</td>\n",
              "      <td>688</td>\n",
              "      <td>10.0</td>\n",
              "      <td>11.0</td>\n",
              "    </tr>\n",
              "  </tbody>\n",
              "</table>\n",
              "</div>"
            ],
            "text/plain": [
              "  Month DayOfMonth DayOfWeek  DepTime  DepDelay  CRSArrTime UniqueCarrier  \\\n",
              "0     1          3         4   2003.0       8.0        2225            WN   \n",
              "1     1          3         4    754.0      19.0        1000            WN   \n",
              "2     1          3         4    628.0       8.0         750            WN   \n",
              "4     1          3         4   1829.0      34.0        1925            WN   \n",
              "5     1          3         4   1940.0      25.0        2110            WN   \n",
              "\n",
              "  TailNum  CRSElapsedTime Origin Dest  Distance  TaxiOut  ArrDelay  \n",
              "0  N712SW           150.0    IAD  TPA       810      8.0     -14.0  \n",
              "1  N772SW           145.0    IAD  TPA       810     10.0       2.0  \n",
              "2  N428WN            90.0    IND  BWI       515     17.0      14.0  \n",
              "4  N464WN            90.0    IND  BWI       515     10.0      34.0  \n",
              "5  N726SW           115.0    IND  JAX       688     10.0      11.0  "
            ]
          },
          "metadata": {},
          "execution_count": 30
        }
      ]
    },
    {
      "cell_type": "code",
      "metadata": {
        "colab": {
          "base_uri": "https://localhost:8080/"
        },
        "id": "YAbojFDZr-8Y",
        "outputId": "67d0c89c-5c2f-44fe-9920-a35c5726846d"
      },
      "source": [
        "# We split the features in 2 groups, depending on the preprocessing to be performed\n",
        "# At this moment we consider Month, Day, DayOfWeek as numerical features (not categorical)\n",
        "\n",
        "# Categorical features\n",
        "cat_columns = ['TailNum', 'UniqueCarrier', 'Dest', 'Origin']\n",
        "\n",
        "# Numerical features (all the rest)\n",
        "num_columns = ['sin_Month', 'cos_Month', 'sin_DayOfMonth', 'cos_DayOfMonth', 'sin_DayOfWeek',\n",
        "               'cos_DayOfWeek', 'sin_DepTime', 'cos_DepTime', 'sin_CRSArrTime', 'cos_CRSArrTime',\n",
        "               'DepDelay', 'CRSElapsedTime', 'Distance', 'TaxiOut']\n",
        "\n",
        "features = cat_columns + num_columns\n",
        "target = ['ArrDelay']\n",
        "\n",
        "print(f\"Categorical columns are: {cat_columns}\")\n",
        "print(f\"Numerical columns are: {num_columns}\")"
      ],
      "execution_count": 31,
      "outputs": [
        {
          "output_type": "stream",
          "name": "stdout",
          "text": [
            "Categorical columns are: ['TailNum', 'UniqueCarrier', 'Dest', 'Origin']\n",
            "Numerical columns are: ['sin_Month', 'cos_Month', 'sin_DayOfMonth', 'cos_DayOfMonth', 'sin_DayOfWeek', 'cos_DayOfWeek', 'sin_DepTime', 'cos_DepTime', 'sin_CRSArrTime', 'cos_CRSArrTime', 'DepDelay', 'CRSElapsedTime', 'Distance', 'TaxiOut']\n"
          ]
        }
      ]
    },
    {
      "cell_type": "code",
      "metadata": {
        "id": "4HAd2-zEr-4G"
      },
      "source": [
        "# Transformations for numerical features:\n",
        "#   - StandardScaler()\n",
        "num_pipe = Pipeline([('scaler', StandardScaler())],\n",
        "                    memory=cachedir)\n",
        "\n",
        "# Transformations for categorical features\n",
        "#   - One Hot Encoding\n",
        "cat_pipe = Pipeline([('ohe', OneHotEncoder(handle_unknown='ignore'))],\n",
        "                    memory=cachedir)\n",
        "\n",
        "# We combine both transformations\n",
        "# Old features, that are not included on num_pipe and cat_pipe, will be ignored (droped)\n",
        "preprocessor = ColumnTransformer(transformers=[\n",
        "                                               ('num_transf', num_pipe, num_columns),\n",
        "                                               ('cat_transf', cat_pipe, cat_columns)\n",
        "                                               ],\n",
        "                                 remainder='drop',\n",
        "                                 verbose=False)"
      ],
      "execution_count": 32,
      "outputs": []
    },
    {
      "cell_type": "code",
      "metadata": {
        "id": "whogmGMoAX6C"
      },
      "source": [
        "# Linear Regression\n",
        "lr_pipeline4 = Pipeline([\n",
        "                        ('preprocess', preprocessor), \n",
        "                        ('linear_regression', LinearRegression())\n",
        "                       ])\n",
        "\n",
        "\n",
        "# Decision Tree\n",
        "dt_pipeline4 = Pipeline([\n",
        "                        ('preprocess', preprocessor), \n",
        "                        ('decision_tree', DecisionTreeRegressor(max_depth = 10, criterion='friedman_mse', random_state=RS))\n",
        "                       ])\n",
        "\n",
        "# Random Forest\n",
        "rf_pipeline4 = Pipeline([\n",
        "                        ('preprocess', preprocessor),\n",
        "                        ('rforest', TransformedTargetRegressor(regressor=RandomForestRegressor(n_estimators=20,\n",
        "                                                                                               max_depth=10,\n",
        "                                                                                               max_features=4000,\n",
        "                                                                                               n_jobs=-1,\n",
        "                                                                                               random_state=RS),\n",
        "                            transformer=reshape1D_transf, check_inverse=False))\n",
        "                       ])\n",
        "\n",
        "\n",
        "# Lasso Regression\n",
        "la_pipeline4 = Pipeline([\n",
        "                        ('preprocess', preprocessor), \n",
        "                        ('lasso_regression', Lasso(random_state=RS))\n",
        "                       ])\n",
        "\n",
        "# Ridge Regression\n",
        "ri_pipeline4 = Pipeline([\n",
        "                        ('preprocess', preprocessor), \n",
        "                        ('ridge_regression', Ridge(random_state=RS))\n",
        "                       ])\n",
        "\n",
        "# ElasticNet\n",
        "el_pipeline4 = Pipeline([\n",
        "                        ('preprocess', preprocessor), \n",
        "                        ('elasticnet', ElasticNet(l1_ratio=0.8, random_state=RS))\n",
        "                       ])\n",
        "\n",
        "# List of models\n",
        "models4 = [lr_pipeline4, dt_pipeline4, rf_pipeline4, la_pipeline4, ri_pipeline4, el_pipeline4]"
      ],
      "execution_count": 33,
      "outputs": []
    },
    {
      "cell_type": "code",
      "metadata": {
        "colab": {
          "base_uri": "https://localhost:8080/"
        },
        "id": "J10nM3L8Anq6",
        "outputId": "1e9f2e7f-ef81-4645-d8f4-4c5e856d9445"
      },
      "source": [
        "df_X_train4, df_X_test4, df_y_train4, df_y_test4 = train_test_split(df4[features], df4[target], test_size=0.3, random_state=RS, shuffle=True)\n",
        "\n",
        "total_size = df4.shape[0]\n",
        "train_size = df_X_train4.shape[0]\n",
        "test_size = df_X_test4.shape[0]\n",
        "\n",
        "print(f'Total size of the dataset: {total_size} samples')\n",
        "print(f'Check of training set size: {train_size} samples ({100*train_size/total_size:.2f}%)')\n",
        "print(f'Check of test set size: {test_size} samples ({100*test_size/total_size:.2f}%)')"
      ],
      "execution_count": 34,
      "outputs": [
        {
          "output_type": "stream",
          "name": "stdout",
          "text": [
            "Total size of the dataset: 1928368 samples\n",
            "Check of training set size: 1349857 samples (70.00%)\n",
            "Check of test set size: 578511 samples (30.00%)\n"
          ]
        }
      ]
    },
    {
      "cell_type": "code",
      "metadata": {
        "colab": {
          "base_uri": "https://localhost:8080/",
          "height": 355,
          "referenced_widgets": [
            "1bdf0a61b97e4fa09fbe91dd192d7cfc",
            "cc39e96386424f62a2fe4ff8487fde1a",
            "aa4f106e603148bba628b0533620e77f",
            "b67ff00b29524e5ea7626bdd5bd8ac5e",
            "b3fd8ec7adb4497bbf49ccee9dc19446",
            "8021cb035c2e48c58541487556a2b650",
            "51bfc4ce9a2341b7bd3944aec43a518c",
            "ec74adfa97ab469c9c67847c70f39fbb",
            "10bfb3f15d5c40d1beccebde367cb7cf",
            "4bcfbca35f3b49399c870a3dc3dd2df5",
            "7c674a141ec14e0c9a28e3709b047c86"
          ]
        },
        "id": "vOH2UETOsP-m",
        "outputId": "5b7a32fa-a8fc-442f-f332-e50249346fce"
      },
      "source": [
        "models4, indices_train4, _, _ = train_test_models(models4, \n",
        "                                                df_X_train4, df_y_train4, \n",
        "                                                df_X_test4, df_y_test4, \n",
        "                                                train_size=100_000, \n",
        "                                                verbose=True)"
      ],
      "execution_count": 35,
      "outputs": [
        {
          "output_type": "display_data",
          "data": {
            "application/vnd.jupyter.widget-view+json": {
              "model_id": "1bdf0a61b97e4fa09fbe91dd192d7cfc",
              "version_minor": 0,
              "version_major": 2
            },
            "text/plain": [
              "  0%|          | 0/6 [00:00<?, ?it/s]"
            ]
          },
          "metadata": {}
        },
        {
          "output_type": "stream",
          "name": "stdout",
          "text": [
            "Model: linear_regression. Training...Testing...Done!\n",
            "Model: decision_tree. Training...Testing...Done!\n",
            "Model: rforest. Training...Testing...Done!\n",
            "Model: lasso_regression. Training...Testing...Done!\n",
            "Model: ridge_regression. Training...Testing...Done!\n",
            "Model: elasticnet. Training...Testing...Done!\n",
            "\n",
            "---- Model TrainTesting (Summary) ----\n",
            "Number of samples (from the training set) used: 100_000\n",
            "\n",
            "Model                MSE (Train)    MSE (Test)  diff MSE      R2 (Train)    R2 (Test)  diff R2      Training Time [s]\n",
            "-----------------  -------------  ------------  ----------  ------------  -----------  ---------  -------------------\n",
            "linear_regression        99.6636       115.025  13.4%           0.970571     0.964366  -0.6%                 9.23071\n",
            "decision_tree           127.494        158.942  19.8%           0.962353     0.950761  -1.2%                 4.29066\n",
            "rforest                 124.068        146.062  15.1%           0.963365     0.954751  -0.9%                27.5078\n",
            "lasso_regression        144.732        146.887  1.5%            0.957263     0.954495  -0.3%                 6.07191\n",
            "ridge_regression        101.973        112.65   9.5%            0.969889     0.965102  -0.5%                 0.655711\n",
            "elasticnet              244.559        241.544  -1.2%           0.927786     0.925171  -0.3%                11.3666\n"
          ]
        }
      ]
    },
    {
      "cell_type": "code",
      "metadata": {
        "colab": {
          "base_uri": "https://localhost:8080/",
          "height": 462
        },
        "id": "WuUMJjsj5U1W",
        "outputId": "4038cd73-f701-4770-9e73-46291fa8aaa7"
      },
      "source": [
        "plot_predictions(models4, df_X_test4, df_y_test4, num_samples=20, random_state=None)"
      ],
      "execution_count": 36,
      "outputs": [
        {
          "output_type": "display_data",
          "data": {
            "image/png": "[encoded data removed]",
            "text/plain": [
              "<Figure size 1800x648 with 1 Axes>"
            ]
          },
          "metadata": {
            "needs_background": "light"
          }
        }
      ]
    },
    {
      "cell_type": "markdown",
      "metadata": {
        "id": "oZsUmLiSHHei"
      },
      "source": [
        "Si comparem amb els primers models entrenats anteriorment (models2), no s'observa una millora significativa."
      ]
    },
    {
      "cell_type": "markdown",
      "metadata": {
        "id": "Jgy3FWKb2e7p"
      },
      "source": [
        "## Exercici 6\n",
        "No utilitzis la variable DepDelay a l’hora de fer prediccions."
      ]
    },
    {
      "cell_type": "code",
      "metadata": {
        "id": "iwRYyluJvye7"
      },
      "source": [
        "models5 = clone(models2)"
      ],
      "execution_count": 61,
      "outputs": []
    },
    {
      "cell_type": "code",
      "metadata": {
        "colab": {
          "base_uri": "https://localhost:8080/"
        },
        "id": "2lLR69BVNzwK",
        "outputId": "d0344178-b60c-49d9-e3eb-8e9d10643a53"
      },
      "source": [
        "# We split the features in 2 groups, depending on the preprocessing to be performed\n",
        "# At this moment we consider Month, Day, DayOfWeek as numerical features (not categorical)\n",
        "\n",
        "# Categorical features\n",
        "cat_columns5 = ['TailNum', 'UniqueCarrier', 'Dest', 'Origin']\n",
        "\n",
        "# Numerical features (all the rest). Note: we removed 'DepDelay'\n",
        "num_columns5 = ['Month', 'DayOfMonth', 'DayOfWeek', 'DepTime', \n",
        "               'CRSArrTime', 'CRSElapsedTime', 'Distance', 'TaxiOut']\n",
        "\n",
        "features5 = cat_columns5 + num_columns5\n",
        "target5 = ['ArrDelay']\n",
        "\n",
        "print(f\"Categorical columns are: {cat_columns5}\")\n",
        "print(f\"Numerical columns are: {num_columns5}\")"
      ],
      "execution_count": 63,
      "outputs": [
        {
          "output_type": "stream",
          "name": "stdout",
          "text": [
            "Categorical columns are: ['TailNum', 'UniqueCarrier', 'Dest', 'Origin']\n",
            "Numerical columns are: ['Month', 'DayOfMonth', 'DayOfWeek', 'DepTime', 'CRSArrTime', 'CRSElapsedTime', 'Distance', 'TaxiOut']\n"
          ]
        }
      ]
    },
    {
      "cell_type": "code",
      "metadata": {
        "id": "mwVzL9UT2CbP"
      },
      "source": [
        "# Preprocessing/Transformations steps for the pipelines\n",
        "\n",
        "# Cache folder\n",
        "cachedir5 = mkdtemp()\n",
        "\n",
        "# Transformations for numerical features:\n",
        "#   - StandardScaler()\n",
        "num_pipe5 = Pipeline([('scaler', StandardScaler())],\n",
        "                    memory=cachedir5)\n",
        "\n",
        "# Transformations for categorical features\n",
        "#   - One Hot Encoding\n",
        "cat_pipe5 = Pipeline([('ohe', OneHotEncoder(handle_unknown='ignore'))],\n",
        "                    memory=cachedir5)\n",
        "\n",
        "# We combine both transformations\n",
        "preprocessor5 = ColumnTransformer(transformers=[\n",
        "                                               ('num_transf', num_pipe5, num_columns5),\n",
        "                                               ('cat_transf', cat_pipe5, cat_columns5)\n",
        "                                               ],\n",
        "                                 verbose=False)\n",
        "\n",
        "# For some models, the target needs to be a 1D array (not a 2D array).\n",
        "# So we create this transformation to convert to 1D and we will use it when needed\n",
        "reshape1D_transf = FunctionTransformer(np.ravel)\n"
      ],
      "execution_count": 64,
      "outputs": []
    },
    {
      "cell_type": "code",
      "metadata": {
        "id": "wiJJVGMOOdP0"
      },
      "source": [
        "for model in models5:\n",
        "  model.steps.pop(0);\n",
        "  model.steps.insert(0,['preprocess5', preprocessor5])"
      ],
      "execution_count": 65,
      "outputs": []
    },
    {
      "cell_type": "code",
      "metadata": {
        "colab": {
          "base_uri": "https://localhost:8080/"
        },
        "id": "YtfPrEgbNo0A",
        "outputId": "17a4dd03-8b3c-4212-cf0f-e00d89eb76e3"
      },
      "source": [
        "df_X_train5, df_X_test5, df_y_train5, df_y_test5 = train_test_split(df[features5], df[target], test_size=0.3, random_state=RS, shuffle=True)\n",
        "\n",
        "total_size5 = df.shape[0]\n",
        "train_size5 = df_X_train5.shape[0]\n",
        "test_size5 = df_X_test5.shape[0]\n",
        "\n",
        "print(f'Total size of the dataset: {total_size} samples')\n",
        "print(f'Size of the Training set: {train_size} samples ({100*train_size/total_size:.2f} %)')\n",
        "print(f'Size of the Test set: {test_size} samples ({100*test_size/total_size:.2f} %)')\n",
        "\n"
      ],
      "execution_count": 66,
      "outputs": [
        {
          "output_type": "stream",
          "name": "stdout",
          "text": [
            "Total size of the dataset: 1928368 samples\n",
            "Size of the Training set: 1349857 samples (70.00 %)\n",
            "Size of the Test set: 578511 samples (30.00 %)\n"
          ]
        }
      ]
    },
    {
      "cell_type": "code",
      "metadata": {
        "id": "qyeBGwSmvjhZ",
        "colab": {
          "base_uri": "https://localhost:8080/",
          "height": 355,
          "referenced_widgets": [
            "d6868535b6804a5784503da0e311bdc2",
            "b57d1c9e9a0d4393a5fe5177038b7b86",
            "b6f277642b9b41af861ab872fd7e1304",
            "a92fc31b3e3440a3ac19df3215b1d026",
            "9d822859fac249b19c0fddaff0a71ea9",
            "4a3b3e5b33e84eabbe1919ccd31ca431",
            "39e9efed448349c39f8fd0704ec60e3d",
            "441627d4ea0d4a1d9baba56acd207964",
            "db944ad3768c4da4838cccf0ead8c4aa",
            "8d7cc9db5fc94a268c322651610e03ff",
            "fd45f41eb0ae4cf0ba26706c7d304cb4"
          ]
        },
        "outputId": "72ae8693-adb7-4dd9-e5ab-90cc9b2c3abd"
      },
      "source": [
        "models5, indices_train5, _, _ = train_test_models(models5, \n",
        "                                                df_X_train5, df_y_train5, \n",
        "                                                df_X_test5, df_y_test5, \n",
        "                                                train_size=100_000, \n",
        "                                                verbose=True)"
      ],
      "execution_count": 67,
      "outputs": [
        {
          "output_type": "display_data",
          "data": {
            "application/vnd.jupyter.widget-view+json": {
              "model_id": "d6868535b6804a5784503da0e311bdc2",
              "version_minor": 0,
              "version_major": 2
            },
            "text/plain": [
              "  0%|          | 0/6 [00:00<?, ?it/s]"
            ]
          },
          "metadata": {}
        },
        {
          "output_type": "stream",
          "name": "stdout",
          "text": [
            "Model: linear_regression. Training...Testing...Done!\n",
            "Model: decision_tree. Training...Testing...Done!\n",
            "Model: rforest. Training...Testing...Done!\n",
            "Model: lasso_regression. Training...Testing...Done!\n",
            "Model: ridge_regression. Training...Testing...Done!\n",
            "Model: elasticnet. Training...Testing...Done!\n",
            "\n",
            "---- Model TrainTesting (Summary) ----\n",
            "Number of samples (from the training set) used: 100_000\n",
            "\n",
            "Model                MSE (Train)    MSE (Test)  diff MSE      R2 (Train)    R2 (Test)  diff R2      Training Time [s]\n",
            "-----------------  -------------  ------------  ----------  ------------  -----------  ---------  -------------------\n",
            "linear_regression        2751.4        2988.84  7.9%           0.187559     0.0740785  -153.2%               5.99533\n",
            "decision_tree            1628.02       1910.16  14.8%          0.519274     0.408245   -27.2%                1.99831\n",
            "rforest                  1686.62       1857.12  9.2%           0.501971     0.424678   -18.2%               12.4428\n",
            "lasso_regression         3056.1        2907.25  -5.1%          0.0975856    0.0993533  1.8%                 10.4561\n",
            "ridge_regression         2755.56       2956.32  6.8%           0.186331     0.0841521  -121.4%               0.917797\n",
            "elasticnet               3071.25       2922.08  -5.1%          0.0931123    0.094758   1.7%                 13.0758\n"
          ]
        }
      ]
    },
    {
      "cell_type": "code",
      "metadata": {
        "colab": {
          "base_uri": "https://localhost:8080/",
          "height": 462
        },
        "id": "kWUX5uYVwHN8",
        "outputId": "11979764-f20a-4c85-c003-98ac0584df86"
      },
      "source": [
        "plot_predictions(models5, df_X_train5, df_y_train5, num_samples=20, random_state=None)"
      ],
      "execution_count": 69,
      "outputs": [
        {
          "output_type": "display_data",
          "data": {
            "image/png": "[encoded data removed]",
            "text/plain": [
              "<Figure size 1800x648 with 1 Axes>"
            ]
          },
          "metadata": {
            "needs_background": "light"
          }
        }
      ]
    },
    {
      "cell_type": "markdown",
      "metadata": {
        "id": "aoPd9wgaUfyK"
      },
      "source": [
        "Veiem com amb els mateixos models amb els mateixos hiperparàmetres però entrenats sense la variable 'DepDelay' no s'obtenen bones prediccions. Es podria intentar millorar les prediccions ajustant els hiperparàmetres però ja es veu que no es podrà arribar a un resultat tant bo, ja que la variable DepDelay està fortament correlacionada amb el target ArrDelay. En effecte, té sentit pensar que un retard en la sortida té un fort impacte en el retard a l'arribada."
      ]
    }
  ]
}